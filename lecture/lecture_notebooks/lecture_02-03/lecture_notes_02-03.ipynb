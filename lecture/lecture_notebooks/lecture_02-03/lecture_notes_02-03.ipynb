{
 "cells": [
  {
   "cell_type": "markdown",
   "id": "28c06e9c-6c14-4f21-b92f-4cef45626a03",
   "metadata": {},
   "source": [
    "## Lecture 02-03: Probability distributions, Random processes\n",
    "#### Non-Uniform Random Numbers: Transforming Probability Distributions\n",
    "##### Consider an arbitrary PDF\n",
    "How do we evaluate trials in a non-uniform PDF? We need to map random numbers on the interval $x\\in [0,1]$, but we need it to represent the probability distribution \n",
    "$$ p(x) = \\mu e^{-\\mu x} $$\n",
    "Using this distribution, we calculate \n",
    "$$ \\mu \\int_0^{x(z) e^{-\\mu x'} \\, \\mathrm{d}x' = 1 - e^{-\\mu x} = z $$\n",
    "This expression above represents the cumulative distribution function (CDF): since the CDF must integrate to one, we transform the x value of the CDF to the z value on the interval 0:1 for the uniform distribution. \n",
    "\n",
    "##### Consider the case of a Gaussian Random Process\n",
    "...\n",
    "##### Rutherford Scattering\n",
    "The process of rutherford scattering corrresponds to the electronic scattering (Coulomb interaction collision; in this case, $\\alpha$ particles). We are interested in the number of particles that reflect back. A beam of $\\alpha$ particles has a beam spread $\\sigma = a_0 / 100$. The scattering angle satisfies:\n",
    "\n",
    "$$ \\tan{\\frac{\\theta}{2}} = \\frac{Z e^2}{2 \\pi \\epsilon_0 E b} $$\n",
    "\n",
    "The code is copied from 08_rutherford.py:\n"
   ]
  },
  {
   "cell_type": "code",
   "execution_count": 10,
   "id": "c2c63806-a420-4b3a-b7a9-cff0f36bd092",
   "metadata": {},
   "outputs": [],
   "source": [
    "import numpy as np\n",
    "from numpy.random import random\n",
    "\n",
    "def backscatter_prob(length):\n",
    "    prob_arr = np.zeros(length)\n",
    "    for j in range(length):\n",
    "        # Constants\n",
    "        Z = 79\n",
    "        e = 1.602e-19\n",
    "        E = 7.7e6*e\n",
    "        epsilon0 = 8.854e-12\n",
    "        a0 = 5.292e-11\n",
    "        sigma = a0/100\n",
    "        N = 100000\n",
    "        \n",
    "        \n",
    "        def theta(b):\n",
    "            fact = (Z * (e ** 2))/(2. * np.pi * epsilon0 * E * b)\n",
    "            return (2. * np.arctan(fact))\n",
    "            \n",
    "        def rad(z):\n",
    "            radical = -2. * (sigma ** 2) * np.log(1. - z)\n",
    "            return np.sqrt(radical)\n",
    "        \n",
    "        # Complete in-class\n",
    "        # Function to generate two Gaussian random numbers\n",
    "        # Optional: Use array arithmetic to speed-up\n",
    "        def gaussian():\n",
    "            x = y = 0\n",
    "            return x,y\n",
    "        \n",
    "        count = 0\n",
    "        for i in range(N):\n",
    "            rand_var = np.random.random()\n",
    "            b_val = rad(rand_var)\n",
    "            if (theta(b_val) > (np.pi/2.)):\n",
    "                count += 1\n",
    "                #print('backscattered particle')\n",
    "            # Complete in-class\n",
    "            # For every particle, calculate a random position (x,y) and determine \n",
    "            # whether it's back-scattered (b < some critical radii)\n",
    "    \n",
    "        print(\"%d particles were reflected out of %d in trial %d\" % (count,N,j))\n",
    "        prob_arr[j] = count\n",
    "    print(prob_arr)\n",
    "    return prob_arr"
   ]
  },
  {
   "cell_type": "code",
   "execution_count": 22,
   "id": "74ae2271-592d-45a3-97a2-5d030078d74b",
   "metadata": {},
   "outputs": [
    {
     "name": "stdout",
     "output_type": "stream",
     "text": [
      "155 particles were reflected out of 100000 in trial 0\n",
      "157 particles were reflected out of 100000 in trial 1\n",
      "158 particles were reflected out of 100000 in trial 2\n",
      "163 particles were reflected out of 100000 in trial 3\n",
      "149 particles were reflected out of 100000 in trial 4\n",
      "139 particles were reflected out of 100000 in trial 5\n",
      "178 particles were reflected out of 100000 in trial 6\n",
      "137 particles were reflected out of 100000 in trial 7\n",
      "163 particles were reflected out of 100000 in trial 8\n",
      "157 particles were reflected out of 100000 in trial 9\n",
      "[155. 157. 158. 163. 149. 139. 178. 137. 163. 157.]\n"
     ]
    }
   ],
   "source": [
    "\n",
    "a = backscatter_prob(10)\n",
    "import matplotlib.pyplot as plt\n",
    "import scipy\n",
    "# scipy + numpy\n",
    "def get_stats(v):\n",
    "    res = scipy.stats.describe(v)\n",
    "    return np.concatenate([\n",
    "        [\n",
    "            res.minmax[0],\n",
    "            res.minmax[1],\n",
    "            res.mean,\n",
    "            res.variance,\n",
    "            res.skewness,\n",
    "            res.kurtosis\n",
    "        ],\n",
    "        np.percentile(v, q=[10, 25, 50, 75, 90])\n",
    "    ])\n",
    "#print(get_stats(a))"
   ]
  },
  {
   "cell_type": "code",
   "execution_count": null,
   "id": "9679095b-ab9b-4761-a34a-f11bc7b8ff47",
   "metadata": {},
   "outputs": [],
   "source": []
  },
  {
   "cell_type": "markdown",
   "id": "fa5a47d7-553b-474e-bc1e-f26782e50c8e",
   "metadata": {},
   "source": [
    "#### Monte Carlo Integration\n",
    "##### Consider integrating the ill-behaved function:\n",
    "$$ f(x) = \\sin^2{\\left [ \\frac{1}{2(2-x)} \\right ] } $$\n",
    "\n",
    "- we wish to integrate from 0 to 2\n",
    "- rapidly varies near integration limits, so regular integration methods would be ill-suited\n",
    "\n",
    "- we wish to calculate pi: consider randomly generated points in the unit circle"
   ]
  },
  {
   "cell_type": "code",
   "execution_count": 39,
   "id": "56a519bd-2735-493c-9c92-a85aaddd8f45",
   "metadata": {},
   "outputs": [],
   "source": [
    "def estimate_pi(N):\n",
    "    count = 0\n",
    "    for i in range(N):\n",
    "        x, y = np.random.random(), np.random.random()\n",
    "        radius = np.sqrt( (x**2) + (y**2))\n",
    "        if (radius <= 1.):\n",
    "            count += 1\n",
    "        x, y = 0., 0.\n",
    "        \n",
    "    int_value = float(count) / float(N)\n",
    "    pi_est = 4.* int_value\n",
    "    return pi_est\n",
    "\n",
    "pi_arr = []\n",
    "N_arr = []\n",
    "\n",
    "c_val = 2\n",
    "for j in range(24):\n",
    "    nval = c_val ** j\n",
    "    N_arr.append(nval)\n",
    "    pi_arr.append(estimate_pi(nval))\n",
    "\n",
    "\n",
    "            "
   ]
  },
  {
   "cell_type": "code",
   "execution_count": 47,
   "id": "0a218c96-bf36-44c7-bbca-239e521de132",
   "metadata": {},
   "outputs": [
    {
     "data": {
      "image/png": "[encoded data removed]",
      "text/plain": [
       "<Figure size 1200x800 with 1 Axes>"
      ]
     },
     "metadata": {},
     "output_type": "display_data"
    }
   ],
   "source": [
    "fig, ax = plt.subplots(figsize=(12,8))\n",
    "plt.semilogx(N_arr,pi_arr,color='navy')\n",
    "ax.axhline(np.pi,color='red',label='$\\pi$')\n",
    "plt.legend()\n",
    "plt.grid()\n",
    "plt.title('Estimating Pi with Monte Carlo Simulations')\n",
    "plt.show()"
   ]
  },
  {
   "cell_type": "markdown",
   "id": "f96ce36a-73d9-4451-9e08-c322037a1c20",
   "metadata": {},
   "source": [
    "#### Mean value Method\n",
    "- The most basic MC method may not give accurate results depending on the context of the problem\n",
    "- Suppose you wish to calculate the mean value of a function:\n",
    "$$ \\langle f \\rangle = \\frac{1}{b-a} \\int_a^b f(x) \\,\\mathrm{d} x $$\n",
    "- This method is more accurate for slowly varying / smooth functions\n",
    "- The integration error follows from the variance\n",
    "\n",
    "$$ \\sigma^2(f) = \\langle f^2 \\rangle - \\langle f \\rangle ^2 $$\n",
    "$$ \\sigma = \\frac{b-a}{N} \\sqrt{N \\sigma^2(f)} = (b-a) \\sqrt{\\frac{\\sigma^2(f)}{N}} $$\n",
    "- the error behaves as $O(N^{-1/2})$\n",
    "- this method is most useful in high-dimensional (e.g., over phase space) integrals where finite differencing errors compound and become more intractible: (100 slices per dimension in 6D is 1 trillion points!)\n",
    "- However, the Mean Value MC method is given by:\n",
    "$$ I \\approx \\frac{V}{N} \\sum_{i=1}^N f(\\mathbf{r}_i) $$\n",
    "\n",
    "#### Importance Sampling\n",
    "- A generalized case of the above Mean Value problem\n",
    "- Suppose functions diverge even when their integrals don't diverge (e.g., at the origin a Fermi gas diverges at the origin)\n",
    "- We wish to \"favor\" values of $x$ where the function doesn't diverge\n",
    "- $=>$ We place higher weights on the samples near the diverging point, satisfying the weighted mean:\n",
    "  $$ \\langle g \\rangle_w = \\frac{\\int_a^b w(x) g(x) \\,\\mathrm{d}x}{\\int_a^b w(x) \\,\\mathrm{d}x} $$\n",
    "- Take $I=\\int_a^b f(x) \\, \\mathrm{d}x$ and $g(x) \\equiv f(x) / w(x)$:\n",
    "  $$\\sum_{i=1}^N g(x_i) \\approx \\int_a^b N p(x) g(x) \\,\\mathrm{d} x $$\n",
    "- Strategy: choose $w(x)$ that factors out the diverging part of $f$.\n",
    "- the error also behaves as $O(N^{-1/2})$, but may be lower for well-chosen $w$\n",
    "- this follows from how the Mean Value MC method is recovered by setting $w$ to unity."
   ]
  },
  {
   "cell_type": "code",
   "execution_count": null,
   "id": "8ace0d11-986f-4551-ad65-76b6778fd381",
   "metadata": {},
   "outputs": [],
   "source": []
  }
 ],
 "metadata": {
  "kernelspec": {
   "display_name": "Python 3 (ipykernel)",
   "language": "python",
   "name": "python3"
  },
  "language_info": {
   "codemirror_mode": {
    "name": "ipython",
    "version": 3
   },
   "file_extension": ".py",
   "mimetype": "text/x-python",
   "name": "python",
   "nbconvert_exporter": "python",
   "pygments_lexer": "ipython3",
   "version": "3.10.2"
  }
 },
 "nbformat": 4,
 "nbformat_minor": 5
}
