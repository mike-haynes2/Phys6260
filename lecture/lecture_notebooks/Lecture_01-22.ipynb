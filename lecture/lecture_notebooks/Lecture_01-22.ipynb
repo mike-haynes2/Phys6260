{
 "cells": [
  {
   "cell_type": "markdown",
   "id": "2cf5af34-3f58-44ce-a247-4ec7b631ce2f",
   "metadata": {},
   "source": [
    "### Eigenvalue problem -- Schrodinger's equation\n",
    "#### Using script in class (virtual meeting 01/22)"
   ]
  },
  {
   "cell_type": "code",
   "execution_count": 5,
   "id": "f9a0f4c1-64a9-4ec2-a041-60371701f3f3",
   "metadata": {},
   "outputs": [
    {
     "name": "stdout",
     "output_type": "stream",
     "text": [
      "E1: 1.6022e-19, E2: 1.3127930593896971e-17\n",
      "psi1: 5.2918000000000186e-11, psi2: 5.2272161579438944e-11\n",
      "E1: 1.3127930593896971e-17, E2: 1.772754570103909e-17\n",
      "psi1: 5.2272161579438944e-11, psi2: 1.3686307647244218e-11\n",
      "E1: 1.772754570103909e-17, E2: 2.063882964746756e-17\n",
      "psi1: 1.3686307647244218e-11, psi2: 5.3049212158378845e-12\n",
      "E1: 2.063882964746756e-17, E2: 2.1410275441681787e-17\n",
      "psi1: 5.3049212158378845e-12, psi2: 1.1112569883778003e-12\n",
      "E1: 2.1410275441681787e-17, E2: 2.151221838862766e-17\n",
      "psi1: 1.1112569883778003e-12, psi2: 1.297072046737804e-13\n",
      "E1: 2.151221838862766e-17, E2: 2.15153509834661e-17\n",
      "psi1: 1.297072046737804e-13, psi2: 3.866933379260459e-15\n",
      "E1: 2.15153509834661e-17, E2: 2.151536247276318e-17\n",
      "psi1: 3.866933379260459e-15, psi2: 1.4130775280613555e-17\n",
      "E = 134.286372 eV\n"
     ]
    }
   ],
   "source": [
    "import numpy as np\n",
    "\n",
    "# Constants\n",
    "m = 9.1094e-31     # Mass of electron\n",
    "hbar = 1.0546e-34  # Planck's constant over 2*pi\n",
    "e = 1.6022e-19     # Electron charge\n",
    "L = 5.2918e-11     # Bohr radius\n",
    "N = 1000\n",
    "h = L/N\n",
    "\n",
    "# Potential function\n",
    "def V(x):\n",
    "    return 0.0\n",
    "\n",
    "def f(r,x,E):\n",
    "    psi = r[0]\n",
    "    phi = r[1]\n",
    "    fpsi = phi\n",
    "    fphi = (2*m/hbar**2)*(V(x)-E)*psi\n",
    "    return np.array([fpsi,fphi],float)\n",
    "\n",
    "# Calculate the wavefunction for a particular energy\n",
    "def solve(E):\n",
    "    psi = 0.0\n",
    "    phi = 1.0\n",
    "    r = np.array([psi,phi],float)\n",
    "\n",
    "    for x in np.arange(0,L,h):\n",
    "        k1 = h*f(r,x,E)\n",
    "        k2 = h*f(r+0.5*k1,x+0.5*h,E)\n",
    "        k3 = h*f(r+0.5*k2,x+0.5*h,E)\n",
    "        k4 = h*f(r+k3,x+h,E)\n",
    "        r += (k1+2*k2+2*k3+k4)/6\n",
    "\n",
    "    return r[0]\n",
    "\n",
    "# Main program to find the energy using the secant method\n",
    "E1 = 0.0\n",
    "E2 = e\n",
    "psi2 = solve(E1)\n",
    "\n",
    "\n",
    "target = e/1000\n",
    "while abs(E1-E2)>target:\n",
    "    # E3 = E2 - psi2 * ( (E2 - E1) / (psi2 - psi1))\n",
    "    # E1, E2 = E2, E3\n",
    "    # psi1, psi2 = psi2, solve(E2)\n",
    "    psi1, psi2 = psi2, solve(E2)\n",
    "    E1, E2 = E2, E2 - psi2 * ( (E2 - E1) / (psi2 - psi1))\n",
    "    print(\"E1: \"+str(E1)+\", E2: \"+str(E2)+'\\npsi1: '+\n",
    "          str(psi1)+', psi2: '+str(psi2))\n",
    "\n",
    "    \n",
    "\n",
    "\n",
    "\n",
    "print(\"E = %.6f eV\" % (E2/e))\n"
   ]
  },
  {
   "cell_type": "code",
   "execution_count": 6,
   "id": "611455fd-6b5c-4db0-8d5d-dc72cd501a95",
   "metadata": {},
   "outputs": [
    {
     "name": "stdout",
     "output_type": "stream",
     "text": [
      "E1: -1.6022e-19, E2: 3.2044e-19\n",
      "psi1: 3.866933379260459e-15, psi2: uninitialized\n",
      "E1: 3.2044e-19, E2: 1.3128941299617084e-17\n",
      "psi1: 5.356860260491673e-11, psi2: 5.163106238341147e-11\n",
      "E1: 1.3128941299617084e-17, E2: 1.7747879439193672e-17\n",
      "psi1: 5.163106238341147e-11, psi2: 1.3684206682323223e-11\n",
      "E1: 1.7747879439193672e-17, E2: 2.0643336296886334e-17\n",
      "psi1: 1.3684206682323223e-11, psi2: 5.2728170524460434e-12\n",
      "E1: 2.0643336296886334e-17, E2: 2.14113257076838e-17\n",
      "psi1: 5.2728170524460434e-12, psi2: 1.1053711081232357e-12\n",
      "E1: 2.14113257076838e-17, E2: 2.1512265449693298e-17\n",
      "psi1: 1.1053711081232357e-12, psi2: 1.2840618146862784e-13\n",
      "E1: 2.1512265449693298e-17, E2: 2.151535126831344e-17\n",
      "psi1: 1.2840618146862784e-13, psi2: 3.809046385512683e-15\n",
      "E1: 2.151535126831344e-17, E2: 2.1515362472812777e-17\n",
      "psi1: 3.809046385512683e-15, psi2: 1.3780477589814488e-17\n",
      "E = 134.286372 eV\n"
     ]
    }
   ],
   "source": [
    "# Main program to find the energy using the secant method\n",
    "# Modified Boundary Values:\n",
    "E1 = -e\n",
    "E2 = 2*e\n",
    "psi2 = solve(E1)\n",
    "\n",
    "print(\"E1: \"+str(E1)+\", E2: \"+str(E2)+'\\npsi1: '+\n",
    "          str(psi1)+', psi2: uninitialized')\n",
    "\n",
    "target = e/1000\n",
    "while abs(E1-E2)>target:\n",
    "    # E3 = E2 - psi2 * ( (E2 - E1) / (psi2 - psi1))\n",
    "    # E1, E2 = E2, E3\n",
    "    # psi1, psi2 = psi2, solve(E2)\n",
    "    psi1, psi2 = psi2, solve(E2)\n",
    "    E1, E2 = E2, E2 - psi2 * ( (E2 - E1) / (psi2 - psi1))\n",
    "    print(\"E1: \"+str(E1)+\", E2: \"+str(E2)+'\\npsi1: '+\n",
    "          str(psi1)+', psi2: '+str(psi2))\n",
    "\n",
    "    \n",
    "\n",
    "\n",
    "\n",
    "print(\"E = %.6f eV\" % (E2/e))"
   ]
  },
  {
   "cell_type": "code",
   "execution_count": null,
   "id": "2d111580-ef04-4461-b81a-01a78d72622e",
   "metadata": {},
   "outputs": [],
   "source": []
  }
 ],
 "metadata": {
  "kernelspec": {
   "display_name": "Python 3 (ipykernel)",
   "language": "python",
   "name": "python3"
  },
  "language_info": {
   "codemirror_mode": {
    "name": "ipython",
    "version": 3
   },
   "file_extension": ".py",
   "mimetype": "text/x-python",
   "name": "python",
   "nbconvert_exporter": "python",
   "pygments_lexer": "ipython3",
   "version": "3.12.3"
  }
 },
 "nbformat": 4,
 "nbformat_minor": 5
}
