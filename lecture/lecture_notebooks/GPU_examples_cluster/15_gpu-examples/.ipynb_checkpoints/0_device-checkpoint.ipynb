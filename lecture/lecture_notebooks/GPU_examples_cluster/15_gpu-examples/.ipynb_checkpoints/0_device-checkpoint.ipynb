{
 "cells": [
  {
   "cell_type": "code",
   "execution_count": null,
   "id": "3f4904ea-868d-46ab-9582-3daf3a0aca32",
   "metadata": {},
   "outputs": [],
   "source": [
    "import pycuda.driver as drv"
   ]
  },
  {
   "cell_type": "code",
   "execution_count": null,
   "id": "2b80fcda-1007-4461-8c4c-4390f4aab83c",
   "metadata": {},
   "outputs": [],
   "source": [
    "drv.init()\n",
    "print(\"%d device(s) found.\" % drv.Device.count())"
   ]
  },
  {
   "cell_type": "code",
   "execution_count": null,
   "id": "c6ed189f-96ef-4106-b342-abb211fd5c57",
   "metadata": {},
   "outputs": [],
   "source": [
    "for ordinal in range(drv.Device.count()):\n",
    "    dev = drv.Device(ordinal)\n",
    "    print(\"Device #%d: %s\" % (ordinal, dev.name()))\n",
    "    print(\"  Compute Capability: %d.%d\" % dev.compute_capability())\n",
    "    print(\"  Total Memory: %s KB\" % (dev.total_memory() // (1024)))\n",
    "    atts = [(str(att), value) for att, value in dev.get_attributes().items()]\n",
    "    atts.sort()\n",
    "\n",
    "    for att, value in atts:\n",
    "        print(\"  %s: %s\" % (att, value))"
   ]
  }
 ],
 "metadata": {
  "kernelspec": {
   "display_name": "Python 3 (ipykernel)",
   "language": "python",
   "name": "python3"
  },
  "language_info": {
   "codemirror_mode": {
    "name": "ipython",
    "version": 3
   },
   "file_extension": ".py",
   "mimetype": "text/x-python",
   "name": "python",
   "nbconvert_exporter": "python",
   "pygments_lexer": "ipython3",
   "version": "3.11.7"
  }
 },
 "nbformat": 4,
 "nbformat_minor": 5
}
