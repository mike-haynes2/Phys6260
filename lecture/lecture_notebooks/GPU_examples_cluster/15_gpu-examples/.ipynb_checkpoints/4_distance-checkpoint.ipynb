{
 "cells": [
  {
   "cell_type": "markdown",
   "id": "09689c27-9925-44aa-8fb9-3ff9f911d6f3",
   "metadata": {},
   "source": [
    "# Distance calculation on GPU\n",
    "Computes a set of distances from a given point in a search space in parallel on a GPU."
   ]
  },
  {
   "cell_type": "code",
   "execution_count": null,
   "id": "9fb8f3f0-d769-4e74-974a-dd3968f5e5f4",
   "metadata": {},
   "outputs": [],
   "source": [
    "import pycuda.gpuarray as gpuarray\n",
    "import pycuda.driver as cuda\n",
    "import pycuda.tools as tools\n",
    "import pycuda.autoinit\n",
    "import numpy, random, time\n",
    "from pycuda.curandom import rand as curand\n",
    "from pycuda.elementwise import ElementwiseKernel as Elementwise"
   ]
  },
  {
   "cell_type": "code",
   "execution_count": null,
   "id": "7e416603-e49e-4b36-ac19-c1612ef9e092",
   "metadata": {},
   "outputs": [],
   "source": [
    "x = 50\n",
    "y = 50\n",
    "z = 2\n",
    "width = 100\n",
    "height = 100\n",
    "depth = 100"
   ]
  },
  {
   "cell_type": "code",
   "execution_count": null,
   "id": "16f2cd58-99a8-4f98-8b02-875d1d5bf9d4",
   "metadata": {},
   "outputs": [],
   "source": [
    "# Create an empty array to hold our points.\n",
    "n = gpuarray.zeros(shape=(x, y, z), dtype=gpuarray.vec.float3)\n",
    "\n",
    "# Populate the array with randomized points from the search space.\n",
    "for k in range(z):\n",
    "    for j in range(y):\n",
    "        for i in range(x):\n",
    "            n[i, j, k] = gpuarray.vec.make_float3(\n",
    "                random.uniform(-width, width),\n",
    "                random.uniform(-height, height),\n",
    "                random.uniform(-depth, depth),\n",
    "            )"
   ]
  },
  {
   "cell_type": "code",
   "execution_count": null,
   "id": "b9e02cdd-2ba1-4332-be9a-54b970ef5fc5",
   "metadata": {},
   "outputs": [],
   "source": [
    "# Declare our elementwise CUDA kernel.\n",
    "mod = Elementwise(\n",
    "    arguments=\"float3 pt, float3 *ns, float *rs\",\n",
    "    operation=\"rs[i] = sqrt(pow(pt.x-ns[i].x,2)+pow(pt.y-ns[i].y,2)+pow(pt.z-ns[i].z,2))\",\n",
    "    name=\"euclidean_distance\",\n",
    "    preamble=\"#include <math.h>\",\n",
    ")"
   ]
  },
  {
   "cell_type": "code",
   "execution_count": null,
   "id": "bf9318a4-cda6-49c6-bad1-e54cd39a1c97",
   "metadata": {},
   "outputs": [],
   "source": [
    "# Declare an empty results array.\n",
    "r = gpuarray.zeros(shape=(50, 50, 2), dtype=numpy.float32)\n",
    "start = cuda.Event()\n",
    "end = cuda.Event()\n",
    "start.record()\n",
    "# Call the kernel with a randomized point from the search space.\n",
    "mod(\n",
    "    gpuarray.vec.make_float3(\n",
    "        random.uniform(-width, width),\n",
    "        random.uniform(-height, height),\n",
    "        random.uniform(-width, width),\n",
    "    ),\n",
    "    n,\n",
    "    r,\n",
    ")\n",
    "end.record()\n",
    "end.synchronize()\n",
    "print(start.time_till(end))\n",
    "#print(r)"
   ]
  }
 ],
 "metadata": {
  "kernelspec": {
   "display_name": "Python 3 (ipykernel)",
   "language": "python",
   "name": "python3"
  },
  "language_info": {
   "codemirror_mode": {
    "name": "ipython",
    "version": 3
   },
   "file_extension": ".py",
   "mimetype": "text/x-python",
   "name": "python",
   "nbconvert_exporter": "python",
   "pygments_lexer": "ipython3",
   "version": "3.11.7"
  }
 },
 "nbformat": 4,
 "nbformat_minor": 5
}
