{
 "cells": [
  {
   "cell_type": "markdown",
   "id": "94ea3c62-1da7-42ce-a503-56d8b30c4721",
   "metadata": {},
   "source": [
    "# Add with a single thread on the GPU"
   ]
  },
  {
   "cell_type": "code",
   "execution_count": null,
   "id": "d6b670ed-439c-4da5-b0af-5c0d8c69b511",
   "metadata": {},
   "outputs": [],
   "source": [
    "import pycuda.driver as cuda\n",
    "import pycuda.autoinit\n",
    "from pycuda.compiler import SourceModule\n",
    "\n",
    "import numpy"
   ]
  },
  {
   "cell_type": "code",
   "execution_count": null,
   "id": "dce495cd-7eff-4650-8d6f-09913d39cf6e",
   "metadata": {},
   "outputs": [],
   "source": [
    "# Define CUDA function\n",
    "mod = SourceModule(\"\"\"\n",
    "__global__ void add(int *a, int *b, int *c)  {\n",
    "  int id = blockIdx.x;\n",
    "\n",
    "  c[id] = a[id] + b[id];\n",
    "}\"\"\")\n",
    "\n",
    "func = mod.get_function(\"add\")"
   ]
  },
  {
   "cell_type": "code",
   "execution_count": null,
   "id": "2f31a3f2-3ee6-47fb-86e2-16b98465b84a",
   "metadata": {},
   "outputs": [],
   "source": [
    "# Vector size\n",
    "N = 10\n",
    "\n",
    "# Host vectors\n",
    "a = numpy.array(range(0,N))\n",
    "b = 1 - a\n",
    "c = numpy.zeros(N)\n",
    "\n",
    "a = a.astype(numpy.int32)\n",
    "b = b.astype(numpy.int32)\n",
    "c = c.astype(numpy.int32)"
   ]
  },
  {
   "cell_type": "code",
   "execution_count": null,
   "id": "47994163-8f7f-4391-8b18-13b51aff471f",
   "metadata": {},
   "outputs": [],
   "source": [
    "# Allocate on device\n",
    "a_gpu = cuda.mem_alloc(a.size * a.dtype.itemsize)\n",
    "b_gpu = cuda.mem_alloc(b.size * b.dtype.itemsize)\n",
    "c_gpu = cuda.mem_alloc(c.size * c.dtype.itemsize)\n",
    "\n",
    "# Copy from host to device\n",
    "cuda.memcpy_htod(a_gpu, a)\n",
    "cuda.memcpy_htod(b_gpu, b)"
   ]
  },
  {
   "cell_type": "code",
   "execution_count": null,
   "id": "72dfe887-713a-453c-9fdb-2b3477a435e5",
   "metadata": {},
   "outputs": [],
   "source": [
    "func(a_gpu, b_gpu, c_gpu, block=(1,1,1), grid=(N,1))\n",
    "\n",
    "# Copy result to host\n",
    "cuda.memcpy_dtoh(c, c_gpu)"
   ]
  },
  {
   "cell_type": "code",
   "execution_count": null,
   "id": "ef061340-7d17-4b03-a11d-ba80a5646b91",
   "metadata": {},
   "outputs": [],
   "source": [
    "# Display results\n",
    "print(\"Should be %d\" % N)\n",
    "print(\"Results: %d\" % numpy.sum(c))"
   ]
  }
 ],
 "metadata": {
  "kernelspec": {
   "display_name": "Python 3 (ipykernel)",
   "language": "python",
   "name": "python3"
  },
  "language_info": {
   "codemirror_mode": {
    "name": "ipython",
    "version": 3
   },
   "file_extension": ".py",
   "mimetype": "text/x-python",
   "name": "python",
   "nbconvert_exporter": "python",
   "pygments_lexer": "ipython3",
   "version": "3.11.7"
  }
 },
 "nbformat": 4,
 "nbformat_minor": 5
}
