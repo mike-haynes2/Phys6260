{
 "cells": [
  {
   "cell_type": "markdown",
   "id": "ac01849f-9b28-4c63-85c8-c895718e6687",
   "metadata": {},
   "source": [
    "# Add with a single thread on the GPU"
   ]
  },
  {
   "cell_type": "code",
   "execution_count": null,
   "id": "d119650e-9e64-4416-87f4-798f5200297b",
   "metadata": {},
   "outputs": [],
   "source": [
    "import pycuda.driver as cuda\n",
    "import pycuda.autoinit\n",
    "from pycuda.compiler import SourceModule\n",
    "\n",
    "import numpy"
   ]
  },
  {
   "cell_type": "code",
   "execution_count": null,
   "id": "985951ca-a60d-4c3d-8237-846a733ac48a",
   "metadata": {},
   "outputs": [],
   "source": [
    "# Define CUDA function\n",
    "mod = SourceModule(\"\"\"\n",
    "__global__ void add(int *a, int *b, int *c)  {\n",
    "  int id = blockIdx.x;\n",
    "\n",
    "  c[id] = a[id] + b[id];\n",
    "}\"\"\")\n",
    "\n",
    "func = mod.get_function(\"add\")"
   ]
  },
  {
   "cell_type": "code",
   "execution_count": null,
   "id": "3be70855-6140-4e54-b668-3f952b744aa3",
   "metadata": {},
   "outputs": [],
   "source": [
    "# Allocate input on host\n",
    "a = numpy.array(8)\n",
    "b = numpy.array(2)\n",
    "c = numpy.array(0)\n",
    "\n",
    "a = a.astype(numpy.int32)\n",
    "b = b.astype(numpy.int32)\n",
    "c = c.astype(numpy.int32)"
   ]
  },
  {
   "cell_type": "code",
   "execution_count": null,
   "id": "50559469-cf25-4a37-98b5-44700f8f2b4e",
   "metadata": {},
   "outputs": [],
   "source": [
    "# Allocate on device\n",
    "a_gpu = cuda.mem_alloc(a.size * a.dtype.itemsize)\n",
    "b_gpu = cuda.mem_alloc(b.size * b.dtype.itemsize)\n",
    "c_gpu = cuda.mem_alloc(c.size * c.dtype.itemsize)\n",
    "\n",
    "# Copy from host to device\n",
    "cuda.memcpy_htod(a_gpu, a)\n",
    "cuda.memcpy_htod(b_gpu, b)"
   ]
  },
  {
   "cell_type": "code",
   "execution_count": null,
   "id": "20de40b4-6731-4334-ba34-096740902555",
   "metadata": {},
   "outputs": [],
   "source": [
    "func(a_gpu, b_gpu, c_gpu, block=(1,1,1))"
   ]
  },
  {
   "cell_type": "code",
   "execution_count": null,
   "id": "4ac83edc-5762-4372-82b2-eefeeb9e489d",
   "metadata": {},
   "outputs": [],
   "source": [
    "# Copy result to host\n",
    "cuda.memcpy_dtoh(c, c_gpu)\n",
    "\n",
    "print(c)"
   ]
  }
 ],
 "metadata": {
  "kernelspec": {
   "display_name": "Python 3 (ipykernel)",
   "language": "python",
   "name": "python3"
  },
  "language_info": {
   "codemirror_mode": {
    "name": "ipython",
    "version": 3
   },
   "file_extension": ".py",
   "mimetype": "text/x-python",
   "name": "python",
   "nbconvert_exporter": "python",
   "pygments_lexer": "ipython3",
   "version": "3.11.7"
  }
 },
 "nbformat": 4,
 "nbformat_minor": 5
}
