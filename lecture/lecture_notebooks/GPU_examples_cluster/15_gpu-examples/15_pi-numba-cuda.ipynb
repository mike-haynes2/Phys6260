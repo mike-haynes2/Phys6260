{
 "cells": [
  {
   "cell_type": "code",
   "execution_count": 13,
   "id": "a171c539-ebe6-4dfa-be0b-db812fbd1b2b",
   "metadata": {},
   "outputs": [],
   "source": [
    "import time\n",
    "from numba import cuda\n",
    "from numba.cuda.random import create_xoroshiro128p_states, xoroshiro128p_uniform_float32\n",
    "import numpy as np"
   ]
  },
  {
   "cell_type": "code",
   "execution_count": 2,
   "id": "904fd153-0683-406c-bbb7-ee4897b3500b",
   "metadata": {},
   "outputs": [],
   "source": [
    "@cuda.jit\n",
    "def compute_pi(rng_states, iterations, out):\n",
    "    \"\"\"Find the maximum value in values and store in result[0]\"\"\"\n",
    "    thread_id = cuda.grid(1)\n",
    "\n",
    "    # Compute pi by drawing random (x, y) points and finding what\n",
    "    # fraction lie inside a unit circle\n",
    "    inside = 0\n",
    "    for i in range(iterations):\n",
    "        x = xoroshiro128p_uniform_float32(rng_states, thread_id)\n",
    "        y = xoroshiro128p_uniform_float32(rng_states, thread_id)\n",
    "        if x**2 + y**2 <= 1.0:\n",
    "            inside += 1\n",
    "\n",
    "    out[thread_id] = 4.0 * inside / iterations"
   ]
  },
  {
   "cell_type": "code",
   "execution_count": 14,
   "id": "1d2d406a-f97d-4382-8a50-54e67dabb90a",
   "metadata": {},
   "outputs": [],
   "source": [
    "threads_per_block = 64\n",
    "blocks = 4096\n",
    "rng_states = create_xoroshiro128p_states(threads_per_block * blocks, seed=1)\n",
    "out = np.zeros(threads_per_block * blocks, dtype=np.float32)"
   ]
  },
  {
   "cell_type": "code",
   "execution_count": 19,
   "id": "836ab8b3-17d2-441e-b18d-9130d271e574",
   "metadata": {},
   "outputs": [
    {
     "name": "stdout",
     "output_type": "stream",
     "text": [
      "pi: 3.1415925\n",
      "Time elapsed = 0.493069 s -> 5.31658e+09 iterations/sec\n"
     ]
    }
   ],
   "source": [
    "iter = 10000\n",
    "start = time.perf_counter()\n",
    "compute_pi[blocks, threads_per_block](rng_states, iter, out)\n",
    "end = time.perf_counter()\n",
    "telapsed = end-start\n",
    "print('pi:', out.mean())\n",
    "print(f\"Time elapsed = {telapsed:.6g} s -> {iter*threads_per_block * blocks/telapsed:.6g} iterations/sec\")"
   ]
  },
  {
   "cell_type": "code",
   "execution_count": null,
   "id": "71a9c23b-fca6-4d10-9f0b-41ec25ba6c36",
   "metadata": {},
   "outputs": [],
   "source": []
  }
 ],
 "metadata": {
  "kernelspec": {
   "display_name": "Python 3 (ipykernel)",
   "language": "python",
   "name": "python3"
  },
  "language_info": {
   "codemirror_mode": {
    "name": "ipython",
    "version": 3
   },
   "file_extension": ".py",
   "mimetype": "text/x-python",
   "name": "python",
   "nbconvert_exporter": "python",
   "pygments_lexer": "ipython3",
   "version": "3.11.7"
  }
 },
 "nbformat": 4,
 "nbformat_minor": 5
}
