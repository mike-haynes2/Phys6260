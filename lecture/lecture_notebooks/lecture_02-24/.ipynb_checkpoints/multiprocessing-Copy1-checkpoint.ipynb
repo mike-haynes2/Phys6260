{
 "cells": [
  {
   "cell_type": "markdown",
   "metadata": {},
   "source": [
    "# Python tools for high-performance computing applications"
   ]
  },
  {
   "cell_type": "code",
   "execution_count": 1,
   "metadata": {
    "tags": []
   },
   "outputs": [],
   "source": [
    "%matplotlib inline\n",
    "import matplotlib.pyplot as plt"
   ]
  },
  {
   "cell_type": "markdown",
   "metadata": {},
   "source": [
    "## multiprocessing"
   ]
  },
  {
   "cell_type": "markdown",
   "metadata": {},
   "source": [
    "Python has a built-in process-based library for concurrent computing, called `multiprocessing`. "
   ]
  },
  {
   "cell_type": "markdown",
   "metadata": {},
   "source": [
    "The multiprocessing module has a major limitation when it comes to IPython use:\n",
    "\n",
    "Functionality within this package requires that the __main__ module be importable by the children. [...] This means that some examples, such as the multiprocessing.pool.Pool examples will not work in the interactive interpreter. [from the documentation]\n",
    "\n",
    "Fortunately, there is a fork of the multiprocessing module called multiprocess which uses dill instead of pickle to serialization and overcomes this issue conveniently.\n",
    "\n",
    "Just install multiprocess and replace multiprocessing with multiprocess in your imports:\n",
    "\n",
    "import multiprocess as mp\n",
    "\n",
    "def f(x):\n",
    "    return x*x\n",
    "\n",
    "with mp.Pool(5) as pool:\n",
    "    print(pool.map(f, [1, 2, 3, 4, 5]))\n",
    "Of course, externalizing the code as suggested in this answer works as well, but I find it very inconvenient: That is not why (and how) I use IPython environments.\n",
    "\n",
    "<tl;dr> multiprocessing does not work in IPython environments right away, use its fork multiprocess instead."
   ]
  },
  {
   "cell_type": "code",
   "execution_count": 2,
   "metadata": {
    "tags": []
   },
   "outputs": [],
   "source": [
    "import multiprocess as multiprocessing\n",
    "import os\n",
    "import time\n",
    "import numpy"
   ]
  },
  {
   "cell_type": "code",
   "execution_count": 3,
   "metadata": {
    "tags": []
   },
   "outputs": [],
   "source": [
    "def task(args):\n",
    "    print(\"PID =\", os.getpid(), \", args =\", args)\n",
    "    \n",
    "    return os.getpid(), args"
   ]
  },
  {
   "cell_type": "code",
   "execution_count": 4,
   "metadata": {},
   "outputs": [
    {
     "name": "stdout",
     "output_type": "stream",
     "text": [
      "PID = 97950 , args = test\n"
     ]
    },
    {
     "data": {
      "text/plain": [
       "(97950, 'test')"
      ]
     },
     "execution_count": 4,
     "metadata": {},
     "output_type": "execute_result"
    }
   ],
   "source": [
    "task(\"test\")"
   ]
  },
  {
   "cell_type": "code",
   "execution_count": 5,
   "metadata": {},
   "outputs": [
    {
     "name": "stdout",
     "output_type": "stream",
     "text": [
      "PID =PID =PID =PID =    97954979569795597953    , args =, args =, args =, args =    2341\n",
      "\n",
      "\n",
      "\n",
      "PID =PID =PID =PID =    97954979559795397956   , args = , args =, args = , args =  56 \n",
      "7\n",
      "8\n",
      "\n"
     ]
    }
   ],
   "source": [
    "pool = multiprocessing.Pool(processes=4)"
   ]
  },
  {
   "cell_type": "code",
   "execution_count": 6,
   "metadata": {
    "tags": []
   },
   "outputs": [],
   "source": [
    "result = pool.map(task, [1,2,3,4,5,6,7,8])"
   ]
  },
  {
   "cell_type": "code",
   "execution_count": 7,
   "metadata": {},
   "outputs": [
    {
     "data": {
      "text/plain": [
       "[(97953, 1),\n",
       " (97954, 2),\n",
       " (97955, 3),\n",
       " (97956, 4),\n",
       " (97954, 5),\n",
       " (97955, 6),\n",
       " (97953, 7),\n",
       " (97956, 8)]"
      ]
     },
     "execution_count": 7,
     "metadata": {},
     "output_type": "execute_result"
    }
   ],
   "source": [
    "result"
   ]
  },
  {
   "cell_type": "markdown",
   "metadata": {},
   "source": [
    "The multiprocessing package is very useful for highly parallel tasks that do not need to communicate with each other, other than when sending the initial data to the pool of processes and when and collecting the results. "
   ]
  },
  {
   "cell_type": "code",
   "execution_count": 8,
   "metadata": {},
   "outputs": [],
   "source": [
    "def mc_pi(n):\n",
    "    count = 0\n",
    "    rvec = numpy.random.random((n,2))\n",
    "    r = numpy.sum(rvec**2, axis=1)\n",
    "    inside = numpy.sum(r < 1.)\n",
    "    return 4. * inside / float(n)"
   ]
  },
  {
   "cell_type": "code",
   "execution_count": 9,
   "metadata": {},
   "outputs": [
    {
     "name": "stdout",
     "output_type": "stream",
     "text": [
      "3.1334\n",
      "Took 0.010711193084716797 seconds\n"
     ]
    }
   ],
   "source": [
    "Nmc = 100000\n",
    "time0 = time.time()\n",
    "print(mc_pi(Nmc))\n",
    "time1 = time.time()\n",
    "print(f\"Took {time1-time0} seconds\")"
   ]
  },
  {
   "cell_type": "code",
   "execution_count": null,
   "metadata": {},
   "outputs": [],
   "source": [
    "nproc = 4\n",
    "est_pis = pool.map\n",
    "\n",
    "\n",
    "\n",
    "(mc_pi, [Nmc//nproc]*nproc)\n",
    "time0 = time.time()\n",
    "print(numpy.sum(est_pis)/nproc)\n",
    "time1 = time.time()\n",
    "print(f\"Took {time1-time0} seconds\")"
   ]
  }
 ],
 "metadata": {
  "kernelspec": {
   "display_name": "Python 3 (ipykernel)",
   "language": "python",
   "name": "python3"
  },
  "language_info": {
   "codemirror_mode": {
    "name": "ipython",
    "version": 3
   },
   "file_extension": ".py",
   "mimetype": "text/x-python",
   "name": "python",
   "nbconvert_exporter": "python",
   "pygments_lexer": "ipython3",
   "version": "3.10.2"
  }
 },
 "nbformat": 4,
 "nbformat_minor": 4
}
