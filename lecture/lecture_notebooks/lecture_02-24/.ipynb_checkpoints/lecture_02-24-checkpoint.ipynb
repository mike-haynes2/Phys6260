{
 "cells": [
  {
   "cell_type": "markdown",
   "id": "e3d4da14-aa8c-4926-a787-cd45dd090a10",
   "metadata": {},
   "source": [
    "## Distributed Computing with MPI\n",
    "- MPI is the primary framework for distributed computing, since it is scalable with superclusters\n",
    "- In MPI, as opposed to openMP, each core cannot directly see each other’s memory\n",
    "- For example, this is how the MPI environment is initialized in c language\n",
    "$$ \\verb|MPI_Init(&argc, &argv);|$$\n",
    "$$ \\verb|MPI_Comm_size(MPI_COMM_WORLD, &size);|$$\n",
    "$$ \\verb|MPI_Comm_rank(MPI_COMM_WORLD, &rank);|$$\n",
    "$$ \\verb|hostname[MAX_LENGTH-1] = '\\0';|$$\n",
    "$$ \\verb|gethostname(hostname, MAX_LENGTH-1);|$$\n",
    "$$ \\verb|printf(\"P\\%04d/\\%04d: Hello world from \\%s\\n\",rank, size, hostname);|$$ \n",
    "$$ \\verb|MPI_Finalize(); |$$\n",
    "\n",
    "- A separate instance of your program is run on each core – these are MPI\n",
    "processes\n",
    "- Thread safety is not an issue here because each instance of the program is\n",
    "isolated from the others\n",
    "- You need to tell the library the datatype of the variable you are communicating\n",
    "and its size (i.e. the buffer)\n",
    "- Processors can be grouped together\n",
    "- Communicators label different groups\n",
    "- MPI_COMM_WORLD is the default communicator (all processes)\n",
    "\n",
    "\n",
    "MPI is very powerful, but much less trivial to implement in an extensive application."
   ]
  },
  {
   "cell_type": "markdown",
   "id": "5723a556-6c6d-49c5-b96f-cf0ce28bca30",
   "metadata": {},
   "source": [
    "### Running MPI\n",
    "#### Execution\n",
    "- To run on a local machine with MPI, the command reads:\n",
    "  $$\\verb|mpirun -n <NCORES> ./executable.o|$$\n",
    "  for a compiled c executable, or\n",
    "  $$\\verb|mpirun -n <NCORES> python3 script.py|$$\n",
    "  for a python script.\n",
    "\n",
    "#### MPI Libraries\n",
    "You need to install the MPI libraries on your machine to run parallel programs\n",
    "- OpenMPI is the most popular on local machines (e.g. “apt install openmpi-bin libopenmpi-dev” on Debian systems)\n",
    "- MVAPICH2 is the most common on HPC platforms\n",
    "\n",
    "We will practice a parallel python example here, from the examples provided in the lectures (examples labeled 14_XXX.py)\n",
    "14_hello_mpi.py: (CAN'T RUN YET BC OF LIBRARY GAPS)\n",
    "\n",
    "need to install mpich|openmpi \\\n",
    "then  \\\n",
    "python3 -m pip install mpi4py "
   ]
  },
  {
   "cell_type": "code",
   "execution_count": 1,
   "id": "859b024b-fabd-4a95-bdc4-7d1e9459d178",
   "metadata": {},
   "outputs": [
    {
     "name": "stdout",
     "output_type": "stream",
     "text": [
      "P00/01: Hello world from lawn-128-61-36-179.lawn.gatech.edu\n"
     ]
    }
   ],
   "source": [
    "import socket\n",
    "from mpi4py import MPI\n",
    "\n",
    "comm = MPI.COMM_WORLD\n",
    "hostname = socket.gethostname()\n",
    "print(f\"P{comm.rank:02d}/{comm.size:02d}: Hello world from {hostname}\")"
   ]
  },
  {
   "cell_type": "code",
   "execution_count": null,
   "id": "fb9a274d-e37e-4740-a270-cfad0f3b5255",
   "metadata": {},
   "outputs": [],
   "source": []
  }
 ],
 "metadata": {
  "kernelspec": {
   "display_name": "Python 3 (ipykernel)",
   "language": "python",
   "name": "python3"
  },
  "language_info": {
   "codemirror_mode": {
    "name": "ipython",
    "version": 3
   },
   "file_extension": ".py",
   "mimetype": "text/x-python",
   "name": "python",
   "nbconvert_exporter": "python",
   "pygments_lexer": "ipython3",
   "version": "3.10.2"
  }
 },
 "nbformat": 4,
 "nbformat_minor": 5
}
