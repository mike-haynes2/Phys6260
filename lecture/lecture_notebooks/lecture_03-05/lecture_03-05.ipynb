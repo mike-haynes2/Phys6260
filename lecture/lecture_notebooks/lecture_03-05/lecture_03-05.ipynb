{
 "cells": [
  {
   "cell_type": "markdown",
   "id": "8dd146ae-5b69-43b2-9ff3-b5a5dbcee94d",
   "metadata": {},
   "source": [
    "# Lecture 03-05: Machine Learning \n",
    "\n",
    "## Introduction to Machine Learning\n",
    "\n",
    "### Types of Machine Learning\n",
    "- Supervised learning\n",
    "- Unsupervised learning\n",
    "- Reinforcement learning\n",
    "There is overlap in all 3 of these tools, and complex combinations of the 3 schemes are often employed\n",
    "\n",
    "#### Concrete Example\n",
    "Predict a housing price given a size: \\\n",
    "Given a dataset with $n$ points, the parameters specified by $\\{(x^{(1)},y^{(1)}), ..., (x^{(n)},y^{(n)})\\}$\n",
    "\n",
    "Increasing the parameter space dimensionality with, e.g., lot size, # of floors, conditions, zip code, etc: each of these have a different impact on the price, and the _regression_ approach of supervised learning attempts to predict the price given a set of these parameters. _Classification_ would be the alternative, a model which attempts to classify the \"type\" of house based on input parameters (not a quantitative value like a price).\n",
    "\n",
    "_training dataset_: what you run the model on for it to \"learn\". Known outputs for inputs, in order to refine the algorithm via learning\\\n",
    "_testing dataset_: data that you run the model on after it has been trained, to verify its performance. Also must be known outputs\\\n",
    "_acting dataset_: data that you actually wish to use the model on. Unknown outputs.\n",
    "\n",
    "\n",
    "#### Uses of Supervised Learning\n",
    "- Computer vision: image classification\n",
    "- Computer vision: pattern / object recognition and identification\n",
    "- Language translation\n",
    "\n"
   ]
  },
  {
   "cell_type": "code",
   "execution_count": null,
   "id": "9e4e14d0-7fa9-408a-8386-dc19e4374559",
   "metadata": {},
   "outputs": [],
   "source": []
  }
 ],
 "metadata": {
  "kernelspec": {
   "display_name": "Python 3 (ipykernel)",
   "language": "python",
   "name": "python3"
  },
  "language_info": {
   "codemirror_mode": {
    "name": "ipython",
    "version": 3
   },
   "file_extension": ".py",
   "mimetype": "text/x-python",
   "name": "python",
   "nbconvert_exporter": "python",
   "pygments_lexer": "ipython3",
   "version": "3.10.2"
  }
 },
 "nbformat": 4,
 "nbformat_minor": 5
}
