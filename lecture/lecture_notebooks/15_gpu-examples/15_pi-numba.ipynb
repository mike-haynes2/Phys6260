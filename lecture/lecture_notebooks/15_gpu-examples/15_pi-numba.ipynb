{
 "cells": [
  {
   "cell_type": "code",
   "execution_count": 1,
   "id": "a171c539-ebe6-4dfa-be0b-db812fbd1b2b",
   "metadata": {},
   "outputs": [],
   "source": [
    "import time\n",
    "from numba import njit\n",
    "import numpy as np"
   ]
  },
  {
   "cell_type": "code",
   "execution_count": 6,
   "id": "904fd153-0683-406c-bbb7-ee4897b3500b",
   "metadata": {},
   "outputs": [],
   "source": [
    "@njit\n",
    "def compute_pi(N, iterations):\n",
    "    # Compute pi by drawing random (x, y) points and finding what\n",
    "    # fraction lie inside a unit circle\n",
    "    inside = 0\n",
    "    for i in range(iterations):\n",
    "        r = np.random.random((N,2))\n",
    "        inside += ((r**2).sum(1) <= 1).sum()\n",
    "\n",
    "    return 4.0 * inside / N / iterations"
   ]
  },
  {
   "cell_type": "code",
   "execution_count": 7,
   "id": "1d2d406a-f97d-4382-8a50-54e67dabb90a",
   "metadata": {},
   "outputs": [],
   "source": [
    "threads_per_block = 64\n",
    "blocks = 4096\n",
    "N = blocks * threads_per_block"
   ]
  },
  {
   "cell_type": "code",
   "execution_count": null,
   "id": "836ab8b3-17d2-441e-b18d-9130d271e574",
   "metadata": {},
   "outputs": [],
   "source": [
    "iter = 100\n",
    "start = time.perf_counter()\n",
    "out = compute_pi(N, iter)\n",
    "end = time.perf_counter()\n",
    "telapsed = end-start\n",
    "print('pi:', out)\n",
    "print(f\"Time elapsed = {telapsed:.6g} s -> {iter*threads_per_block * blocks/telapsed:.6g} iterations/sec\")"
   ]
  },
  {
   "cell_type": "code",
   "execution_count": null,
   "id": "71a9c23b-fca6-4d10-9f0b-41ec25ba6c36",
   "metadata": {},
   "outputs": [],
   "source": []
  }
 ],
 "metadata": {
  "kernelspec": {
   "display_name": "Python 3 (ipykernel)",
   "language": "python",
   "name": "python3"
  },
  "language_info": {
   "codemirror_mode": {
    "name": "ipython",
    "version": 3
   },
   "file_extension": ".py",
   "mimetype": "text/x-python",
   "name": "python",
   "nbconvert_exporter": "python",
   "pygments_lexer": "ipython3",
   "version": "3.11.7"
  }
 },
 "nbformat": 4,
 "nbformat_minor": 5
}
