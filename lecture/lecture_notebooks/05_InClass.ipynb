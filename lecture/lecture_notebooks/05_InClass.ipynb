{
 "cells": [
  {
   "cell_type": "code",
   "execution_count": 1,
   "metadata": {},
   "outputs": [],
   "source": [
    "import numpy as np"
   ]
  },
  {
   "cell_type": "markdown",
   "metadata": {},
   "source": [
    "# Shooting method"
   ]
  },
  {
   "cell_type": "code",
   "execution_count": 7,
   "metadata": {},
   "outputs": [],
   "source": [
    "g = 9.81         # Acceleration due to gravity\n",
    "a = 0.0          # Initial time\n",
    "b = 10.0         # Final time\n",
    "N = 1000         # Number of Runge-Kutta steps\n",
    "h = (b-a)/N      # Size of Runge-Kutta steps\n",
    "target = 1e-06   # Target accuracy for binary search"
   ]
  },
  {
   "cell_type": "code",
   "execution_count": 8,
   "metadata": {},
   "outputs": [],
   "source": [
    "# Function for Runge-Kutta calculation\n",
    "def f(r):\n",
    "    x = r[0]\n",
    "    y = r[1]\n",
    "    fx = y\n",
    "    fy = -g\n",
    "    return np.array([fx,fy],float)\n",
    "\n",
    "# Function to solve the equation and calculate the final height\n",
    "def height(v):\n",
    "    r = np.array([0.0,v],float)\n",
    "    for t in np.arange(a,b,h):\n",
    "        k1 = h*f(r)\n",
    "        k2 = h*f(r+0.5*k1)\n",
    "        k3 = h*f(r+0.5*k2)\n",
    "        k4 = h*f(r+k3)\n",
    "        r += (k1+2*k2+2*k3+k4)/6\n",
    "    return r[0]"
   ]
  },
  {
   "cell_type": "code",
   "execution_count": 9,
   "metadata": {},
   "outputs": [
    {
     "name": "stdout",
     "output_type": "stream",
     "text": [
      "Iteration 01: current solution = 500.005000 m/s\n",
      "Iteration 02: current solution = 250.007500 m/s\n",
      "Iteration 03: current solution = 125.008750 m/s\n",
      "Iteration 04: current solution = 62.509375 m/s\n",
      "Iteration 05: current solution = 31.259687 m/s\n",
      "Iteration 06: current solution = 46.884531 m/s\n",
      "Iteration 07: current solution = 54.696953 m/s\n",
      "Iteration 08: current solution = 50.790742 m/s\n",
      "Iteration 09: current solution = 48.837637 m/s\n",
      "Iteration 10: current solution = 49.814189 m/s\n",
      "Iteration 11: current solution = 49.325913 m/s\n",
      "Iteration 12: current solution = 49.081775 m/s\n",
      "Iteration 13: current solution = 48.959706 m/s\n",
      "Iteration 14: current solution = 49.020740 m/s\n",
      "Iteration 15: current solution = 49.051258 m/s\n",
      "Iteration 16: current solution = 49.035999 m/s\n",
      "Iteration 17: current solution = 49.043628 m/s\n",
      "Iteration 18: current solution = 49.047443 m/s\n",
      "Iteration 19: current solution = 49.049350 m/s\n",
      "Iteration 20: current solution = 49.050304 m/s\n",
      "Iteration 21: current solution = 49.049827 m/s\n",
      "Iteration 22: current solution = 49.050066 m/s\n",
      "Iteration 23: current solution = 49.049946 m/s\n",
      "Iteration 24: current solution = 49.050006 m/s\n",
      "Iteration 25: current solution = 49.049976 m/s\n",
      "Iteration 26: current solution = 49.049991 m/s\n",
      "Iteration 27: current solution = 49.049998 m/s\n",
      "Iteration 28: current solution = 49.050002 m/s\n",
      "Iteration 29: current solution = 49.050000 m/s\n",
      "Iteration 30: current solution = 49.049999 m/s\n",
      "Iteration 31: current solution = 49.050000 m/s\n",
      "Iteration 32: current solution = 49.050000 m/s\n",
      "Iteration 33: current solution = 49.050000 m/s\n",
      "Iteration 34: current solution = 49.050000 m/s\n",
      "The required initial velocity is 49.050000 m/s\n",
      "Solution achieved in 34 iterations\n"
     ]
    }
   ],
   "source": [
    "# Main program performs a binary search\n",
    "v1 = 0.01\n",
    "v2 = 1000.0\n",
    "h1 = height(v1)\n",
    "h2 = height(v2)\n",
    "\n",
    "ni=0\n",
    "while abs(h2-h1)>target:\n",
    "    ni += 1\n",
    "    vp = (v1+v2)/2\n",
    "    print(\"Iteration %02d: current solution = %f m/s\" % (ni, vp))\n",
    "    hp = height(vp)\n",
    "    if h1*hp > 0:\n",
    "        v1, h1 = vp, hp\n",
    "    else:\n",
    "        v2, h2 = vp, hp\n",
    "\n",
    "V = (v1+v2)/2\n",
    "print(\"The required initial velocity is %f m/s\" % (V))\n",
    "print(\"Solution achieved in %d iterations\" % (ni))"
   ]
  },
  {
   "cell_type": "markdown",
   "metadata": {},
   "source": [
    "# Eigenvalue problem"
   ]
  },
  {
   "cell_type": "code",
   "execution_count": 13,
   "metadata": {},
   "outputs": [],
   "source": [
    "# Constants\n",
    "m = 9.1094e-31     # Mass of electron\n",
    "hbar = 1.0546e-34  # Planck's constant over 2*pi\n",
    "e = 1.6022e-19     # Electron charge\n",
    "L = 5.2918e-11     # Bohr radius\n",
    "N = 1000\n",
    "h = L/N"
   ]
  },
  {
   "cell_type": "code",
   "execution_count": 14,
   "metadata": {},
   "outputs": [],
   "source": [
    "# Potential function\n",
    "def V(x):\n",
    "    return 0.0\n",
    "\n",
    "def f(r,x,E):\n",
    "    psi = r[0]\n",
    "    phi = r[1]\n",
    "    fpsi = phi\n",
    "    fphi = (2*m/hbar**2)*(V(x)-E)*psi\n",
    "    return np.array([fpsi,fphi],float)\n",
    "\n",
    "# Calculate the wavefunction for a particular energy\n",
    "def solve(E):\n",
    "    psi = 0.0\n",
    "    phi = 1.0\n",
    "    r = np.array([psi,phi],float)\n",
    "\n",
    "    for x in np.arange(0,L,h):\n",
    "        k1 = h*f(r,x,E)\n",
    "        k2 = h*f(r+0.5*k1,x+0.5*h,E)\n",
    "        k3 = h*f(r+0.5*k2,x+0.5*h,E)\n",
    "        k4 = h*f(r+k3,x+h,E)\n",
    "        r += (k1+2*k2+2*k3+k4)/6\n",
    "\n",
    "    return r[0]"
   ]
  },
  {
   "cell_type": "code",
   "execution_count": 19,
   "metadata": {},
   "outputs": [
    {
     "name": "stdout",
     "output_type": "stream",
     "text": [
      "E = 134.286372 eV\n"
     ]
    }
   ],
   "source": [
    "# Main program to find the energy using the secant method\n",
    "E1 = 0.0\n",
    "E2 = e\n",
    "psi2 = solve(E1)\n",
    "\n",
    "target = e/1000\n",
    "while abs(E1-E2)>target:\n",
    "    psi1, psi2 = psi2, solve(E2)\n",
    "    E1, E2 = E2, E2-psi2*(E2-E1)/(psi2-psi1)\n",
    "\n",
    "print(\"E = %.6f eV\" % (E2/e))"
   ]
  },
  {
   "cell_type": "code",
   "execution_count": null,
   "metadata": {},
   "outputs": [],
   "source": [
    "    # Tristan & Chad used this solution\n",
    "    #E3 = E2 - (solve(E2))*(E2-E1)/(solve(E2)-solve(E1))"
   ]
  }
 ],
 "metadata": {
  "kernelspec": {
   "display_name": "Python 3 (ipykernel)",
   "language": "python",
   "name": "python3"
  },
  "language_info": {
   "codemirror_mode": {
    "name": "ipython",
    "version": 3
   },
   "file_extension": ".py",
   "mimetype": "text/x-python",
   "name": "python",
   "nbconvert_exporter": "python",
   "pygments_lexer": "ipython3",
   "version": "3.11.6"
  }
 },
 "nbformat": 4,
 "nbformat_minor": 4
}
