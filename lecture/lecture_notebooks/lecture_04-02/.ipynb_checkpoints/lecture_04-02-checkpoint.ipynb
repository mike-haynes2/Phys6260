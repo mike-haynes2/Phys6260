{
 "cells": [
  {
   "cell_type": "markdown",
   "id": "570d2632-d4af-413d-bee3-d7ac78ce3dcb",
   "metadata": {},
   "source": [
    "# Modeling Transport Phenomena\n",
    "\n",
    "### Transport processes\n",
    "\n",
    "## Fundamental Methods:\n",
    "\n",
    "#### Ray Tracing\n",
    "\n",
    "- Radiation transport in 1 direction\n",
    "- In a vacuum, the intensity is a constant:\n",
    "$$ \\hat{\\mathbf{n}} \\cdot \\nabla I_\\nu (\\mathbf{x},\\hat{\\mathbf{n}}) $$\n",
    "- The time dependence can be perscribed\n",
    "\n",
    "#### Moment-based method\n",
    "\n",
    "- The richness of angular information in the intensity makes it difficult to solve\n",
    "- We can control the information by studying its moments (i.e., expanding the radiation field in to spherical harmonics)\n",
    "\n",
    "1. Zeroth moment (scalar):\n",
    "$$ J_\\nu = \\frac{1}{4 \\pi} \\oint I_\\nu (\\hat{\\mathbf{n}}) \\,\\mathrm{d} \\Omega $$\n",
    "i.e., the mean intensity averaged over solid angle. For an isotropic, constant radiation field, $J_\\nu = I_\\nu$\n",
    "\n",
    "2. First moment (vector):\n",
    "$$ \\mathbf{H}_\\nu = \\frac{1}{4\\pi} \\oint I_\\nu (\\hat{\\mathbf{n}}) \\hat{\\mathbf{n}} \\,\\mathrm{d} \\Omega $$\n",
    "This moment communicates the vector direction of the average radiation bearing.\n",
    "\n",
    "3. Second moment (tensor):\n",
    "$$ \\mathcal{K}_\\nu = \\frac{1}{4\\pi} \\oint I_\\nu (\\hat{\\mathbf{n}}) \\hat{\\mathbf{n}} \\otimes \\hat{\\mathbf{n}} \\,\\mathrm{d} \\Omega $$\n",
    "If the intensity is homogeneous and symmetric,\n",
    "\n",
    "$$\\mathcal{K}_\\nu = \\frac{1}{3} \\mathbb{I} I_\\nu $$\n",
    "\n",
    "Each moment can be written more explicitly in terms of $\\mu \\equiv \\cos{\\theta} $ (see slides)\n",
    "\n",
    "## Radiative Transfer Equation (RTE)\n",
    "\n",
    "All of the interconnectedness of the radiation being emitted from everywhere, affecting the medium, and affecting the specific rays that you want to trace $\\implies$ assumptions are required to simplify our system. First, $s$ represents the displacement along the path.\n",
    "\n",
    "The radiation transfer equation uses the extinction coefficient $\\alpha_\\nu = \\frac{1}{l}$, where $l$ is the mean free path \n",
    "\n",
    "The intensity along a ray behaves as\n",
    "\n",
    "$$\\frac{\\mathrm{d} I_\\nu(\\hat{\\mathbf{n}}, s)}{\\mathrm{d} s} = - \\alpha_\\nu (s) \\, I_\\nu(\\hat{\\mathbf{n}}, s) $$\n",
    "\n",
    "The 3 dimensional form is thus\n",
    "\n",
    "$$ \\hat{\\mathbf{n}} \\cdot \\nabla  I_\\nu(\\hat{\\mathbf{n}}, s) = j_\\nu(\\mathbf{x}) - \\alpha_\\nu (\\mathbf{x}) \\, I_\\nu(\\mathbf{x}, \\hat{\\mathbf{n}}) $$"
   ]
  },
  {
   "cell_type": "code",
   "execution_count": null,
   "id": "06a3044f-5c63-4e85-81b4-06d97e0fb2de",
   "metadata": {},
   "outputs": [],
   "source": []
  }
 ],
 "metadata": {
  "kernelspec": {
   "display_name": "Python 3 (ipykernel)",
   "language": "python",
   "name": "python3"
  },
  "language_info": {
   "codemirror_mode": {
    "name": "ipython",
    "version": 3
   },
   "file_extension": ".py",
   "mimetype": "text/x-python",
   "name": "python",
   "nbconvert_exporter": "python",
   "pygments_lexer": "ipython3",
   "version": "3.10.2"
  }
 },
 "nbformat": 4,
 "nbformat_minor": 5
}
