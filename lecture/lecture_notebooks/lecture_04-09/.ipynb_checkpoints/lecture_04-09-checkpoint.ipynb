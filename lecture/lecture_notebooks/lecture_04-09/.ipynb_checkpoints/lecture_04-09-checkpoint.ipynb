{
 "cells": [
  {
   "cell_type": "markdown",
   "id": "e1a69264-0238-4737-b621-d4757d1910af",
   "metadata": {},
   "source": [
    "# Computational Fluid Dynamics\n",
    "### Governing Equations:\n",
    "Continuity:\n",
    "$$\\partial_t \\rho + \\nabla \\cdot (\\rho \\mathbf{u}) = 0$$\n",
    "\n",
    "Euler Eqn:\n",
    "$$\\frac{\\mathrm{d}}{\\mathrm{d}t} (\\rho \\mathbf{u}) = -\\nabla p $$\n",
    "\n",
    "(simplified navier stokes)\n",
    "\n",
    "Energy Equation also included\n"
   ]
  },
  {
   "cell_type": "markdown",
   "id": "e9b05bfa-38b1-43c0-b0e6-230ed2473811",
   "metadata": {},
   "source": [
    "### Lagrangian Particle Description\n",
    "#### Smoothed particle hydrodynamics (SPH)\n",
    "- Kernel smoothing → continuous approximation\n",
    "- Usual choice: cubic spline (Lucy in the 1970s found this description for fluid flow in the sun). can be shown mathematically cubic spline is the best, since it must be multiply differentiable\n",
    "- Spread the particle’s mass to its surrounding volume\n",
    "- Quantities (A) are weighted averages among N nearest neighbors\n",
    "\n",
    "$$ \\langle A(x_i) \\rangle \\approx \\sum_j^N A_j \\frac{m_j}{\\rho_j} W(x_i - x_j,h) $$\n",
    "\n",
    "Derivatives: most simple method is to take the direct discretization of the field (particles)\n",
    "\n",
    "$$ \\nabla A_i \\approx \\sum_j^N A_j \\frac{m_j}{\\rho_j} \\nabla W_{ij} $$\n",
    "\n",
    "However, this approach to finite differencing leads to numerical instabilities\n",
    "- Stability can be recovered from an error analysis, correcting for it (outside the scope of this class)  SPH Difference formula\n",
    "- Symmetric formula"
   ]
  },
  {
   "cell_type": "markdown",
   "id": "9710f53f-4622-48d7-aebb-9f422f85a8b3",
   "metadata": {},
   "source": [
    "## Methods for Reimann Solvers\n",
    "#### Assuming an Eulerian description of the flow\n",
    "\n",
    "- Forward differencing\n",
    "\n",
    "$$ \\frac{\\mathrm{d} q}{\\mathrm{d}x} \\approx \\frac{q_{i+1} - q_i}{\\Delta x} $$\n",
    "\n",
    "- Balbas method\n",
    "He basically spent the rest of lecture explaining the Balbas method. Staggered mesh, polynomial reconstruction, half steps, Total Variation Diminishing properties, flux limiters (including MinMod, Van Leer, MUSCL)"
   ]
  }
 ],
 "metadata": {
  "kernelspec": {
   "display_name": "Python 3 (ipykernel)",
   "language": "python",
   "name": "python3"
  },
  "language_info": {
   "codemirror_mode": {
    "name": "ipython",
    "version": 3
   },
   "file_extension": ".py",
   "mimetype": "text/x-python",
   "name": "python",
   "nbconvert_exporter": "python",
   "pygments_lexer": "ipython3",
   "version": "3.10.2"
  }
 },
 "nbformat": 4,
 "nbformat_minor": 5
}
