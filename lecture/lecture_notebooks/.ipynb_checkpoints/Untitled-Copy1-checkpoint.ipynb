{
 "cells": [
  {
   "cell_type": "markdown",
   "id": "2cf5af34-3f58-44ce-a247-4ec7b631ce2f",
   "metadata": {},
   "source": [
    "### Eigenvalue problem -- Schrodinger's equation\n",
    "#### Using script in class (virtual meeting 01/22)"
   ]
  },
  {
   "cell_type": "code",
   "execution_count": 1,
   "id": "f9a0f4c1-64a9-4ec2-a041-60371701f3f3",
   "metadata": {},
   "outputs": [
    {
     "ename": "IndentationError",
     "evalue": "expected an indented block after 'while' statement on line 43 (638040896.py, line 48)",
     "output_type": "error",
     "traceback": [
      "\u001b[0;36m  Cell \u001b[0;32mIn[1], line 48\u001b[0;36m\u001b[0m\n\u001b[0;31m    print(\"E = %.6f eV\" % (E2/e))\u001b[0m\n\u001b[0m    ^\u001b[0m\n\u001b[0;31mIndentationError\u001b[0m\u001b[0;31m:\u001b[0m expected an indented block after 'while' statement on line 43\n"
     ]
    }
   ],
   "source": [
    "import numpy as np\n",
    "\n",
    "# Constants\n",
    "m = 9.1094e-31     # Mass of electron\n",
    "hbar = 1.0546e-34  # Planck's constant over 2*pi\n",
    "e = 1.6022e-19     # Electron charge\n",
    "L = 5.2918e-11     # Bohr radius\n",
    "N = 1000\n",
    "h = L/N\n",
    "\n",
    "# Potential function\n",
    "def V(x):\n",
    "    return 0.0\n",
    "\n",
    "def f(r,x,E):\n",
    "    psi = r[0]\n",
    "    phi = r[1]\n",
    "    fpsi = phi\n",
    "    fphi = (2*m/hbar**2)*(V(x)-E)*psi\n",
    "    return np.array([fpsi,fphi],float)\n",
    "\n",
    "# Calculate the wavefunction for a particular energy\n",
    "def solve(E):\n",
    "    psi = 0.0\n",
    "    phi = 1.0\n",
    "    r = np.array([psi,phi],float)\n",
    "\n",
    "    for x in np.arange(0,L,h):\n",
    "        k1 = h*f(r,x,E)\n",
    "        k2 = h*f(r+0.5*k1,x+0.5*h,E)\n",
    "        k3 = h*f(r+0.5*k2,x+0.5*h,E)\n",
    "        k4 = h*f(r+k3,x+h,E)\n",
    "        r += (k1+2*k2+2*k3+k4)/6\n",
    "\n",
    "    return r[0]\n",
    "\n",
    "# Main program to find the energy using the secant method\n",
    "E1 = 0.0\n",
    "E2 = e\n",
    "psi2 = solve(E1)\n",
    "\n",
    "\n",
    "target = e/1000\n",
    "while abs(E1-E2)>target:\n",
    "    # E3 = E2 - psi2 * ( (E2 - E1) / (psi2 - psi1))\n",
    "    # E1, E2 = E2, E3\n",
    "    # psi1, psi2 = psi2, solve(E2)\n",
    "    psi1, psi2 = psi2, solve(E2)\n",
    "    E1, E2 = E2, E2 - psi2 * ( (E2 - E1) / (psi2 - psi1))\n",
    "    print(\"E1: \"+str(E1)+\", E2: \"+str(E2)+'\\npsi1: '+str(psi1)\n",
    "\n",
    "\n",
    "\n",
    "print(\"E = %.6f eV\" % (E2/e))\n"
   ]
  },
  {
   "cell_type": "code",
   "execution_count": null,
   "id": "611455fd-6b5c-4db0-8d5d-dc72cd501a95",
   "metadata": {},
   "outputs": [],
   "source": []
  }
 ],
 "metadata": {
  "kernelspec": {
   "display_name": "Python 3 (ipykernel)",
   "language": "python",
   "name": "python3"
  },
  "language_info": {
   "codemirror_mode": {
    "name": "ipython",
    "version": 3
   },
   "file_extension": ".py",
   "mimetype": "text/x-python",
   "name": "python",
   "nbconvert_exporter": "python",
   "pygments_lexer": "ipython3",
   "version": "3.12.3"
  }
 },
 "nbformat": 4,
 "nbformat_minor": 5
}
