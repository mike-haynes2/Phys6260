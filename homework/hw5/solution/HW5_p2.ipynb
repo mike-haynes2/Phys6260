{
 "cells": [
  {
   "cell_type": "markdown",
   "id": "459d9a2e-c8f7-45f7-b873-7390bae5b57d",
   "metadata": {},
   "source": [
    "# PHYS 6260: Homework 4, C. Michael Haynes"
   ]
  },
  {
   "cell_type": "code",
   "execution_count": 1,
   "id": "47fc6d81-b6c8-4213-ac04-f7ac043c2d1b",
   "metadata": {},
   "outputs": [],
   "source": [
    "# generic list of import statements to not have to keep track\n",
    "import numpy as np\n",
    "from scipy import constants\n",
    "import math as m\n",
    "import warnings\n",
    "import os\n",
    "\n",
    "# importing specific to animation formalism found in the template notebook\n",
    "%matplotlib inline\n",
    "%config InlineBackend.figure_format = 'svg'\n",
    "import matplotlib.pyplot as plt\n",
    "import matplotlib.animation as animation\n",
    "plt.rcParams['animation.html'] = 'html5' # this is used to display animations in jupyter notebooks\n",
    "\n",
    "from mpl_toolkits.axes_grid1 import make_axes_locatable\n",
    "\n",
    "warnings.filterwarnings( \"ignore\")"
   ]
  },
  {
   "cell_type": "markdown",
   "id": "e982c0ea-31f6-41d5-be1f-a0548fb3fc78",
   "metadata": {},
   "source": [
    "## Problem 2\n",
    "### Randomizing a vector bearing\n",
    "As shown in the homework prompt, the probability of a randomly selected point on a sphere falling within any particular element is given by:\n",
    "\n",
    "$$p(\\theta,\\phi)\\,\\mathrm{d}\\theta\\,\\mathrm{d}\\phi = \\frac{\\sin{\\theta\\,\\mathrm{d}\\theta\\,\\mathrm{d}\\phi}}{4\\pi} \\qquad ,$$ \n",
    "\n",
    "which can be decomposed into a product of single variable functions:\n",
    "\n",
    "$$p(\\theta,\\phi)\\,\\mathrm{d}\\theta\\,\\mathrm{d}\\phi = \\frac{\\sin{\\theta \\,\\mathrm{d}\\theta}}{2} \\cdot \\frac{\\mathrm{d} \\phi}{2\\pi} = p(\\theta)\\,\\mathrm{d}\\theta \\cdot p(\\phi)\\,\\mathrm{d}\\phi \\qquad .$$\n",
    "\n",
    "\n",
    "#### (a) Distributions for $\\theta,\\phi$\n",
    "\n",
    "The variables $\\theta$ and $\\phi$ represent colatitude and longitude, respectively. Longitude covers $360^\\circ$ and latitude only $180^\\circ$, so the ranges of the two variables are given by:\n",
    "$$\\theta\\in[0,\\pi] \\qquad , \\qquad \\phi\\in[0,2\\pi] \\qquad .$$\n",
    "\n",
    "The normalization can thus be verified directly via integration. For $\\theta$:\n",
    "$$ \\int_0^\\pi \\frac{sin{\\theta}}{2} \\,\\mathrm{d}\\theta = \\frac{1}{2} \\left ( -\\cos{\\theta} \\big\\vert_0^\\pi \\right ) = - \\frac{1}{2} (-1 -1) = 1 $$\n",
    "For $\\phi$, it is trivial:\n",
    "$$\\int_0^{2\\pi} \\frac{1}{2\\pi} \\,\\mathrm{d}\\phi = \\frac{2\\pi}{2\\pi} = 1 \\qquad . $$\n",
    "\n",
    "\n",
    "\n",
    "#### (b) Randomly Sampling the distributions $p(\\theta),\\,p(\\phi)$\n",
    "\n",
    "As stated, the $\\phi$ one is trivial since this is a uniform distribution over the interval $[0,2\\pi]$. Thus, a randomly selected $\\phi$ would merely be a random number on the unit interval multiplied by $2\\pi$. \n",
    "\n",
    "For $\\theta$, however, the case is less clear. Since this is \\emph{not} a uniform distribution, we need to obtain the inverse CDF to transform a uniformly generated random number into a value from $p(\\theta)$. This can be obtained via integration:\n",
    "\n",
    "\n"
   ]
  },
  {
   "cell_type": "code",
   "execution_count": null,
   "id": "281e4ff4-46b5-4f76-9e8d-53c927de262d",
   "metadata": {},
   "outputs": [],
   "source": []
  }
 ],
 "metadata": {
  "kernelspec": {
   "display_name": "Python 3 (ipykernel)",
   "language": "python",
   "name": "python3"
  },
  "language_info": {
   "codemirror_mode": {
    "name": "ipython",
    "version": 3
   },
   "file_extension": ".py",
   "mimetype": "text/x-python",
   "name": "python",
   "nbconvert_exporter": "python",
   "pygments_lexer": "ipython3",
   "version": "3.12.3"
  }
 },
 "nbformat": 4,
 "nbformat_minor": 5
}
