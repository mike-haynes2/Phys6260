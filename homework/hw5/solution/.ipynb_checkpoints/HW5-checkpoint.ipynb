{
 "cells": [
  {
   "cell_type": "markdown",
   "id": "459d9a2e-c8f7-45f7-b873-7390bae5b57d",
   "metadata": {},
   "source": [
    "# PHYS 6260: Homework 5, C. Michael Haynes"
   ]
  },
  {
   "cell_type": "code",
   "execution_count": 1,
   "id": "47fc6d81-b6c8-4213-ac04-f7ac043c2d1b",
   "metadata": {},
   "outputs": [],
   "source": [
    "# generic list of import statements to not have to keep track\n",
    "import numpy as np\n",
    "from scipy import constants\n",
    "import math as m\n",
    "import warnings\n",
    "import os\n",
    "import sys\n",
    "from random import random,randrange\n",
    "\n",
    "# importing specific to animation formalism found in the template notebook\n",
    "%matplotlib inline\n",
    "%config InlineBackend.figure_format = 'svg'\n",
    "import matplotlib.pyplot as plt\n",
    "import matplotlib.animation as animation\n",
    "plt.rcParams['animation.html'] = 'html5' # this is used to display animations in jupyter notebooks\n",
    "\n",
    "from mpl_toolkits.axes_grid1 import make_axes_locatable\n",
    "\n",
    "warnings.filterwarnings( \"ignore\")"
   ]
  },
  {
   "cell_type": "markdown",
   "id": "e982c0ea-31f6-41d5-be1f-a0548fb3fc78",
   "metadata": {},
   "source": [
    "## Problem 1\n",
    "### Monte Carlo Integration\n",
    "We wish to use the Importance Sampling technique to evaluate \n",
    "$$ I = \\int_{a=0}^{b=1} \\frac{x^{-\\frac{1}{2}}}{e^x + 1} \\, \\mathrm{d}x \\qquad .$$\n",
    "This method uses a non-uniform random sample to evaluate the integral without encountering evaluation issues near the point where the function diverges (i.e., the origin). \n",
    "\n",
    "#### (a) Choice of Probability Distribution $p(x)$\n",
    "\n",
    "As discussed in lecture, this is acheived by selecting a _weighting function_ $w(x)$ that factors out the diverging product. Since the function \n",
    "$$ f(x) = \\frac{x^{-\\frac{1}{2}}}{e^x + 1}$$\n",
    "diverges on $[a,b]$ due to the $x^{-\\frac{1}{2}}$ factor, we choose $w(x) \\equiv x^{-\\frac{1}{2}}$ such that \n",
    "$$ \\frac{f(x)}{w(x)} = \\frac{ \\frac{x^{-\\frac{1}{2}}}{e^x + 1}}{x^{-\\frac{1}{2}}} = \\frac{1}{e^x + 1} \\qquad ,$$\n",
    "which is well-behaved.\n",
    "\n",
    "Now, since this choice of the weighting function $w$ eliminates the divergent product, we can determine a probability distribution based on the formalism outlined in the lecture slides (specifically, slide set 09: pg 14):\n",
    "$$ p(x) = \\frac{w(x)}{\\int_a^bw(x)\\mathrm{d}x} = \\frac{x^{-\\frac{1}{2}}}{\\int_0^1 x^{-\\frac{1}{2}}\\mathrm{d}x} \\qquad .$$\n",
    "When the integral in the denominator is evaluated, this simply becomes\n",
    "$$ p(x) = \\frac{1}{2x^{\\frac{1}{2}}} \\qquad ,$$ \n",
    "as found in the prompt. \n",
    "\n",
    "We now must construct a mapping from the image of $p(x)$ to the interval $[0,1]$. A simple map that accomplishes this is given by\n",
    "$$ M(p(x)) \\mapsto \\frac{p(x)}{1+p(x)} $$\n",
    "so that\n",
    "$$\\DeclareMathOperator{\\Ima}{Im} \\Ima{M} \\sim \\frac{\\Ima{p}}{\\Ima{p}+1} \\mapsto [0,1] \\qquad .$$\n",
    "Thus, by selecting numbers $x_i$ from $p(x)$ and passing them through the map $M$, we can obtain a weighted set of $x$ values of arbitrary size on the interval $[0,1]$. \n",
    "\n",
    "Another choice is the function\n",
    "$$ M_2(x) = \\frac{2\\arctan{x}}{\\pi} $$ \n",
    "with accompanying inverse mapping\n",
    "$$ M_2^{-1} = \\tan{\\left ( \\frac{\\pi x}{2} \\right ) }  \\qquad .$$"
   ]
  },
  {
   "cell_type": "markdown",
   "id": "716fec10-b653-4cfb-b1a0-62f83cabe4b6",
   "metadata": {},
   "source": [
    "#### (b) Evaluate the Integral\n",
    "To do so, we will implement a numerical routine to approximate the integral of $f(x)$ over $[a,b]$ with the expression obtained in lecture using the Importance Sampling formalism:\n",
    "$$ I \\approx \\frac{1}{N} \\sum_{i=1}^N \\frac{f(x_i)}{w(x_i)} \\int_a^b w(x) \\,\\mathrm{d}x \\qquad , $$\n",
    "for a MC process with $N$ samples. Substituting our expressions for $f(x),\\,w(x),$ we have:\n",
    "$$ I \\approx \\frac{1}{N} \\sum_{i=1}^N \\frac{2}{e^{x_i} + 1} \\qquad , $$ \n",
    "where the sample points $x_i$ are obtained from $M(p(x))$ "
   ]
  },
  {
   "cell_type": "code",
   "execution_count": 3,
   "id": "7928f000-63cc-4b43-a9f1-085e625c8cf9",
   "metadata": {},
   "outputs": [
    {
     "name": "stdout",
     "output_type": "stream",
     "text": [
      "--------------\n",
      "Five N=1e6 samples using polynomial mapping M:\n",
      "--------------\n",
      "sample 1: 0.8256990207350149\n",
      "sample 2: 0.8255065225975461\n",
      "sample 3: 0.8256876240206231\n",
      "sample 4: 0.8257708437884553\n",
      "sample 5: 0.8256343927227601\n",
      "mean: 0.8256533287875548\n",
      "--------------\n",
      "Five N=1e6 samples using trigonometric mapping M2:\n",
      "--------------\n",
      "sample 1: 0.8400308912007058\n",
      "sample 2: 0.8402379082767072\n",
      "sample 3: 0.8401745915694472\n",
      "sample 4: 0.8400672227258964\n",
      "sample 5: 0.8401271032563685\n",
      "mean: 0.840134893574637\n"
     ]
    }
   ],
   "source": [
    "# define probability function p(x)\n",
    "def p(x):\n",
    "    return (1./(2.*np.sqrt(x)))\n",
    "\n",
    "# define mappings M, M2 that go between the domains [0,1] and [0, infty)\n",
    "def M(x):\n",
    "    return (x/(x+1.))\n",
    "\n",
    "def Minv(x):\n",
    "    return (x/(1.-x))\n",
    "\n",
    "def M2(x):\n",
    "    return (2. * np.arctan(x) / np.pi)\n",
    "\n",
    "def Minv2(x):\n",
    "    return (np.tan(np.pi * x / 2.))\n",
    "\n",
    "# define function to calculate the integral of the Fermi distribution\n",
    "# inputs: N samples, mapping M and inverse mapping Minv\n",
    "# since Minv maps [0,1] to [0,infty), we use this to initialize our xi values\n",
    "\n",
    "def IS_Fermi(N,M,Minv):\n",
    "    xi_ar = []\n",
    "    for j in range(N):\n",
    "        xi_ar.append(np.random.random())\n",
    "    xi_ar = np.array(xi_ar)\n",
    "    xi_arr = Minv(xi_ar)\n",
    "    pxi_arr = p(xi_arr)\n",
    "    Mpxi_arr = M(pxi_arr)\n",
    "    eval_arr = 2. / (1.+np.exp(Mpxi_arr))\n",
    "    Ninv = 1./N\n",
    "    return (Ninv * eval_arr.sum())\n",
    "\n",
    "\n",
    "def pk(k,N,M,Minv):\n",
    "    vals = []\n",
    "    for i in range(k):\n",
    "        vals.append(IS_Fermi(N,M,Minv))\n",
    "    stats = np.array(vals)\n",
    "    for i in range(k):\n",
    "        print('sample '+str(i+1)+': '+str(IS_Fermi(N,M,Minv)))\n",
    "    print('mean: '+str(np.mean(stats)))\n",
    "\n",
    "print('--------------\\nFive N=1e6 samples using polynomial mapping M:\\n--------------')\n",
    "pk(5,int(1e6),M,Minv)\n",
    "print('--------------\\nFive N=1e6 samples using trigonometric mapping M2:\\n--------------')\n",
    "pk(5,int(1e6),M2,Minv2)"
   ]
  },
  {
   "cell_type": "markdown",
   "id": "aabd0298-a284-4297-97ff-1727b4236db5",
   "metadata": {},
   "source": [
    "## Problem 2\n",
    "### "
   ]
  },
  {
   "cell_type": "markdown",
   "id": "93ae3c80-1be7-4f9a-8dce-0d93f9a08bb9",
   "metadata": {},
   "source": [
    "## Problem 3\n",
    "### Application Question\n"
   ]
  },
  {
   "cell_type": "markdown",
   "id": "0a5937bc-c550-42fc-a23f-8a5731845c4a",
   "metadata": {},
   "source": [
    "Many systems studied in continuum physics exhibit processes that can be modeled with Monte Carlo (MC) methods. One example of such processes is the behavior of a plasma, for instance, as it impinges towards an obstacle like the Earth's (or another planet's) magnetosphere. For objects with or without a strong internal magnetic field, this flow couples strongly to the ionosphere of the object: it generates production of ions, modifies / shapes the current systems, and likewise contributes to its outflow and loss. \n",
    "\n",
    "In some plasma simulation codes, the ion motion occurs on scales large enough to produce asymmetries in this interaction, so many numerical approaches include a _kinetic_ treatment of ions with a fluid (MHD) treatment of electrons: this is known as a hybrid model. Ionospheric production occurs through chemical reactions. These individual particle interactions, such as charge exchange or photo-ionization via solar uv rays, are calculated in many hybrid models using a MC process like the one we used in the Rutherford scattering example from lecture. The probability of the interaction can be computed with the interaction cross section. Thus, many aspects of ionospheric generation, current balance, and loss can be attributed to a net result of many small-scale MC simulations. \n",
    "\n",
    "Moreover, some numerical applications can substantiate the use of a MC approach, too. For example, in many hybrid and/or kinetic plasma models, particles are traced as _macroparticles_: that is, they represent an ensemble of particles near a certain coordinate in phase space. These are traced together and sampled from distribution functions obtained through measurement, when possible. These macroparticles thus represent different (usually large) numbers of real particles. The number of macroparticles to trace, then, is a choice to be made by the simulation. It is possible to specify an \"optimum\" number of macroparticles in each grid node, and then use merging / splitting processes (which approximately conserve COM, energy and momentum) to adjust the number of macroparticles in each cell after the particles are advanced and some may cross over into adjacent grid cells. The coordinates with which to initialize these particles needs to be sampled from a distribution using a MC approach. "
   ]
  },
  {
   "cell_type": "code",
   "execution_count": null,
   "id": "510a3708-b40e-434f-b8fd-d921723eb692",
   "metadata": {},
   "outputs": [],
   "source": []
  }
 ],
 "metadata": {
  "kernelspec": {
   "display_name": "Python 3 (ipykernel)",
   "language": "python",
   "name": "python3"
  },
  "language_info": {
   "codemirror_mode": {
    "name": "ipython",
    "version": 3
   },
   "file_extension": ".py",
   "mimetype": "text/x-python",
   "name": "python",
   "nbconvert_exporter": "python",
   "pygments_lexer": "ipython3",
   "version": "3.12.3"
  }
 },
 "nbformat": 4,
 "nbformat_minor": 5
}
