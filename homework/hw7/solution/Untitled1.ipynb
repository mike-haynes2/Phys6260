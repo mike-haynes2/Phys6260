{
 "cells": [
  {
   "cell_type": "markdown",
   "id": "f8b3e257-f6c3-4842-bd82-74ee485d4ef7",
   "metadata": {},
   "source": [
    "A particular field of research near mine seeks to characterize the processes active in an intense planetary magnetic field by studying aurorae. Since remote sensing a magnetic field itself is impossible, it is often a practice in space physics or astrophysics to observe secondary emissions like aurorae from charged particle radiation in the magnetic field of interest. Aurorae exist primarily in optical and uv wavelengths, but at the giant planets (i.e., Jupiter and Saturn) this radiation is paired with lower frequency broadband SKR (Saturn auroral Kilometric radiation) and Jovian hectametric radiation. These emissions spanning many wavelengths are not only the result of stimulated emission from impact ionizations, but also result from bremstralhung and cyclotron radiation of intense, GeV-regime (i.e., relativistic) ions and electrons. \n",
    "\n",
    "Pairing large amounts of this data with few constraints (except those separating the different electromagnetic radiation regimes) and allowing the NN to operate with a relatively simple loss function, or option (1), would be my approach to tackling the problem of classifying this data. It may be possible to combine this method with output from other physics models, such as those for the planet's internal magnetic field, radiation belts or atmospheric chemistry. However, this would require more formal constraints, and would be closer to option (4). Soft penalties enforcing the predictions from our current understanding, weighted with the confidence and inversely with degrees of freedom, would enforce the model to converge on something commensurate with our current understanding. "
   ]
  }
 ],
 "metadata": {
  "kernelspec": {
   "display_name": "Python 3 (ipykernel)",
   "language": "python",
   "name": "python3"
  },
  "language_info": {
   "codemirror_mode": {
    "name": "ipython",
    "version": 3
   },
   "file_extension": ".py",
   "mimetype": "text/x-python",
   "name": "python",
   "nbconvert_exporter": "python",
   "pygments_lexer": "ipython3",
   "version": "3.12.3"
  }
 },
 "nbformat": 4,
 "nbformat_minor": 5
}
