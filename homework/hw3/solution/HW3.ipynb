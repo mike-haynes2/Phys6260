{
 "cells": [
  {
   "cell_type": "markdown",
   "id": "459d9a2e-c8f7-45f7-b873-7390bae5b57d",
   "metadata": {},
   "source": [
    "# PHYS 6260: Homework 3, C. Michael Haynes"
   ]
  },
  {
   "cell_type": "markdown",
   "id": "e982c0ea-31f6-41d5-be1f-a0548fb3fc78",
   "metadata": {},
   "source": [
    "## Problem 1\n",
    "### Laplace's equation: 2-D Model of an Electronic Capacitor\n",
    "\n"
   ]
  },
  {
   "cell_type": "code",
   "execution_count": null,
   "id": "ab25924a-0bb6-4ec9-90ea-4f6e48a52fbe",
   "metadata": {},
   "outputs": [],
   "source": []
  },
  {
   "cell_type": "markdown",
   "id": "f1713ff4-74e7-4932-be47-0dee2db043e9",
   "metadata": {},
   "source": [
    "## Problem 2\n",
    "### Heat equation: Thermal diffusion in Earth’s crust\n"
   ]
  },
  {
   "cell_type": "code",
   "execution_count": null,
   "id": "d61bd708-540b-4cc2-8945-75f71c43b2f0",
   "metadata": {},
   "outputs": [],
   "source": []
  },
  {
   "cell_type": "markdown",
   "id": "def98634-1f86-47d2-98e0-65f4ce4d40b4",
   "metadata": {},
   "source": [
    "## Problem 3\n",
    "### Wave equation \n",
    "\n",
    "#### (a) FTCS (Forward-time, Centered-spatial) Integration method: solving the wave equation"
   ]
  },
  {
   "cell_type": "code",
   "execution_count": null,
   "id": "d8883fed-9613-47c7-848b-874126e52eb1",
   "metadata": {},
   "outputs": [],
   "source": []
  },
  {
   "cell_type": "markdown",
   "id": "716fec10-b653-4cfb-b1a0-62f83cabe4b6",
   "metadata": {},
   "source": [
    "#### (b) FTCS (Forward-time, Centered-spatial) Integration method: Numerical Stability"
   ]
  },
  {
   "cell_type": "code",
   "execution_count": null,
   "id": "dcc995f6-94e2-4438-a0a1-5089e1298bac",
   "metadata": {},
   "outputs": [],
   "source": []
  },
  {
   "cell_type": "markdown",
   "id": "e708efcc-8bc8-471c-959a-90380da1c9a8",
   "metadata": {},
   "source": [
    "## Problem 4\n",
    "### Application question:"
   ]
  },
  {
   "cell_type": "code",
   "execution_count": null,
   "id": "3471a1f3-6f27-4b6a-a97e-ca3b2bec819e",
   "metadata": {},
   "outputs": [],
   "source": []
  }
 ],
 "metadata": {
  "kernelspec": {
   "display_name": "Python 3 (ipykernel)",
   "language": "python",
   "name": "python3"
  },
  "language_info": {
   "codemirror_mode": {
    "name": "ipython",
    "version": 3
   },
   "file_extension": ".py",
   "mimetype": "text/x-python",
   "name": "python",
   "nbconvert_exporter": "python",
   "pygments_lexer": "ipython3",
   "version": "3.10.12"
  }
 },
 "nbformat": 4,
 "nbformat_minor": 5
}
