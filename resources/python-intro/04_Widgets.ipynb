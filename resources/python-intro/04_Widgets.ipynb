{
 "cells": [
  {
   "cell_type": "markdown",
   "metadata": {},
   "source": [
    "# PHYS 3120 - Prof. Wise // Chapter 3: Graphics and Visualization\n",
    "## Widgets (not in book)"
   ]
  },
  {
   "cell_type": "code",
   "execution_count": 1,
   "metadata": {
    "collapsed": false,
    "jupyter": {
     "outputs_hidden": false
    }
   },
   "outputs": [],
   "source": [
    "import numpy as np\n",
    "import matplotlib.pyplot as plt  # Plotting package\n",
    "\n",
    "# Import ipywidgets\n",
    "from ipywidgets import widgets, interact\n",
    "from IPython.display import display"
   ]
  },
  {
   "cell_type": "markdown",
   "metadata": {},
   "source": [
    "## Example using a text entry box\n",
    "* This has the same capabilities as `input()`, but it can be incorporated into a web-based UI (user interface).\n",
    "* It will execute the given function when the text is submitted (hit ENTER)"
   ]
  },
  {
   "cell_type": "code",
   "execution_count": 2,
   "metadata": {
    "collapsed": false,
    "jupyter": {
     "outputs_hidden": false
    }
   },
   "outputs": [
    {
     "data": {
      "application/vnd.jupyter.widget-view+json": {
       "model_id": "9b4e90aea4994a90b26066b88b8f92a4",
       "version_major": 2,
       "version_minor": 0
      },
      "text/plain": [
       "Text(value='')"
      ]
     },
     "metadata": {},
     "output_type": "display_data"
    },
    {
     "name": "stderr",
     "output_type": "stream",
     "text": [
      "/tmp/ipykernel_97827/1112645543.py:9: DeprecationWarning: on_submit is deprecated. Instead, set the .continuous_update attribute to False and observe the value changing with: mywidget.observe(callback, 'value').\n",
      "  text.on_submit(handle_submit)\n"
     ]
    }
   ],
   "source": [
    "text = widgets.Text()\n",
    "display(text)\n",
    "\n",
    "def handle_submit(sender):\n",
    "    print(text.value)\n",
    "    print(text.value.upper())\n",
    "    return\n",
    "\n",
    "text.on_submit(handle_submit)"
   ]
  },
  {
   "cell_type": "markdown",
   "metadata": {},
   "source": [
    "## Examples using `interact()` with widgets\n",
    "\n",
    "* The `interact()` function will give the user the appropriate entry method, depending on the variable type\n",
    "    * Boolean: checkbox\n",
    "    * Integer: slider bar with integer values\n",
    "    * Text: text entry box\n",
    "    * Tuple with 3 numbers (min, max, dx): slider bar, ranging from min to max with valid selections every dx\n",
    "* See the documentation for more details. http://ipywidgets.readthedocs.io/en/latest/examples/Using%20Interact.html\n",
    "* Let's just start with a very simple function that prints the variable"
   ]
  },
  {
   "cell_type": "code",
   "execution_count": 3,
   "metadata": {},
   "outputs": [],
   "source": [
    "def f(x):\n",
    "    print(x)"
   ]
  },
  {
   "cell_type": "markdown",
   "metadata": {},
   "source": [
    "### Check box: booleans\n",
    "* Useful for turning on/off options\n",
    "* For example, including air resistance or not in projectile motion"
   ]
  },
  {
   "cell_type": "code",
   "execution_count": 4,
   "metadata": {
    "collapsed": false,
    "jupyter": {
     "outputs_hidden": false
    }
   },
   "outputs": [
    {
     "data": {
      "application/vnd.jupyter.widget-view+json": {
       "model_id": "4be2228306584445bdd9b2cade414381",
       "version_major": 2,
       "version_minor": 0
      },
      "text/plain": [
       "interactive(children=(Checkbox(value=False, description='x'), Output()), _dom_classes=('widget-interact',))"
      ]
     },
     "metadata": {},
     "output_type": "display_data"
    }
   ],
   "source": [
    "interact(f, x=False);"
   ]
  },
  {
   "cell_type": "markdown",
   "metadata": {},
   "source": [
    "### Slider: floating point values\n",
    "* Useful to give the user a particular valid range for a parameter\n",
    "* For example, the initial height of a dropped ball (0 to some reasonable number), which prevents negative or excessively large entries."
   ]
  },
  {
   "cell_type": "code",
   "execution_count": 5,
   "metadata": {
    "collapsed": false,
    "jupyter": {
     "outputs_hidden": false
    }
   },
   "outputs": [
    {
     "data": {
      "application/vnd.jupyter.widget-view+json": {
       "model_id": "e7ec2fb0169e47918ed6190c5afddd1b",
       "version_major": 2,
       "version_minor": 0
      },
      "text/plain": [
       "interactive(children=(FloatSlider(value=12.0, description='x', max=36.0, min=-12.0), Output()), _dom_classes=(…"
      ]
     },
     "metadata": {},
     "output_type": "display_data"
    }
   ],
   "source": [
    "# Floating point\n",
    "interact(f, x=12.0);"
   ]
  },
  {
   "cell_type": "code",
   "execution_count": 6,
   "metadata": {
    "collapsed": false,
    "jupyter": {
     "outputs_hidden": false
    }
   },
   "outputs": [
    {
     "data": {
      "application/vnd.jupyter.widget-view+json": {
       "model_id": "fa9e04ecb5d047ee9ae1e87f9fd6f18b",
       "version_major": 2,
       "version_minor": 0
      },
      "text/plain": [
       "interactive(children=(IntSlider(value=1, description='x', max=3, min=-1), Output()), _dom_classes=('widget-int…"
      ]
     },
     "metadata": {},
     "output_type": "display_data"
    }
   ],
   "source": [
    "# Integer\n",
    "interact(f, x=1);"
   ]
  },
  {
   "cell_type": "code",
   "execution_count": 7,
   "metadata": {
    "collapsed": false,
    "jupyter": {
     "outputs_hidden": false
    }
   },
   "outputs": [
    {
     "data": {
      "application/vnd.jupyter.widget-view+json": {
       "model_id": "d429abadda4f41d49cf09ff6992cb159",
       "version_major": 2,
       "version_minor": 0
      },
      "text/plain": [
       "interactive(children=(IntSlider(value=5, description='x', max=10), Output()), _dom_classes=('widget-interact',…"
      ]
     },
     "metadata": {},
     "output_type": "display_data"
    }
   ],
   "source": [
    "# Range with a tuple of integers\n",
    "interact(f, x=(0,10));"
   ]
  },
  {
   "cell_type": "code",
   "execution_count": 8,
   "metadata": {
    "collapsed": false,
    "jupyter": {
     "outputs_hidden": false
    }
   },
   "outputs": [
    {
     "data": {
      "application/vnd.jupyter.widget-view+json": {
       "model_id": "de33da4c268e48f9a449fc8074bb4299",
       "version_major": 2,
       "version_minor": 0
      },
      "text/plain": [
       "interactive(children=(FloatSlider(value=0.0, description='x', max=1.0, step=0.01), Output()), _dom_classes=('w…"
      ]
     },
     "metadata": {},
     "output_type": "display_data"
    }
   ],
   "source": [
    "# Range with a 3-tuple with the last value the separation of choices\n",
    "interact(f, x=(0,1,0.01));"
   ]
  },
  {
   "cell_type": "markdown",
   "metadata": {},
   "source": [
    "## Example using a Button to initiate something\n",
    "* After you've entered in all of your parameters into text fields, checked the right options, adjusted the slider bars, it's time to go.  Click \"OK\"."
   ]
  },
  {
   "cell_type": "code",
   "execution_count": 9,
   "metadata": {
    "collapsed": false,
    "jupyter": {
     "outputs_hidden": false
    }
   },
   "outputs": [
    {
     "data": {
      "application/vnd.jupyter.widget-view+json": {
       "model_id": "4467814a654942e1b7fa50bff9516220",
       "version_major": 2,
       "version_minor": 0
      },
      "text/plain": [
       "Button(description='OK', style=ButtonStyle())"
      ]
     },
     "metadata": {},
     "output_type": "display_data"
    },
    {
     "data": {
      "application/vnd.jupyter.widget-view+json": {
       "model_id": "6e1c49e362c94761951136eb84328dd7",
       "version_major": 2,
       "version_minor": 0
      },
      "text/plain": [
       "Button(description='Cancel', style=ButtonStyle())"
      ]
     },
     "metadata": {},
     "output_type": "display_data"
    }
   ],
   "source": [
    "button = widgets.Button(description=\"OK\")\n",
    "button_cancel = widgets.Button(description=\"Cancel\")\n",
    "display(button)\n",
    "display(button_cancel)\n",
    "\n",
    "def on_button_clicked(b):\n",
    "    print(\"Button clicked\")\n",
    "def on_cancel_clicked(b):\n",
    "    print(\"OP Cancelled\")\n",
    "\n",
    "button.on_click(on_button_clicked)\n",
    "button_cancel.on_click(on_cancel_clicked)"
   ]
  },
  {
   "cell_type": "markdown",
   "metadata": {},
   "source": [
    "## Example using a Button to initiate something\n",
    "* After you've entered in all of your parameters into text fields, checked the right options, adjusted the slider bars, it's time to go.  Click \"OK\"."
   ]
  },
  {
   "cell_type": "markdown",
   "metadata": {},
   "source": [
    "## Example using a slider bar for an interactive plot"
   ]
  },
  {
   "cell_type": "code",
   "execution_count": 10,
   "metadata": {
    "collapsed": false,
    "jupyter": {
     "outputs_hidden": false
    }
   },
   "outputs": [
    {
     "data": {
      "application/vnd.jupyter.widget-view+json": {
       "model_id": "87078672740144e6acb4e031eb6c807a",
       "version_major": 2,
       "version_minor": 0
      },
      "text/plain": [
       "interactive(children=(FloatSlider(value=5.0, description='f', max=10.0, min=1.0), Output()), _dom_classes=('wi…"
      ]
     },
     "metadata": {},
     "output_type": "display_data"
    }
   ],
   "source": [
    "t = np.arange(0.0, 1.0, 0.01)\n",
    "\n",
    "def pltsin(f):\n",
    "    plt.plot(t, np.sin(2*np.pi*t*f))\n",
    "    plt.show()\n",
    "\n",
    "interact(pltsin, f=(1,10,0.1));"
   ]
  },
  {
   "cell_type": "markdown",
   "metadata": {},
   "source": [
    "There are many widgets that might be used in notebooks. Please see the following link for the available ones. http://ipywidgets.readthedocs.io/en/latest/examples/Widget%20List.html"
   ]
  },
  {
   "cell_type": "code",
   "execution_count": null,
   "metadata": {},
   "outputs": [],
   "source": []
  }
 ],
 "metadata": {
  "kernelspec": {
   "display_name": "Python 3 (ipykernel)",
   "language": "python",
   "name": "python3"
  },
  "language_info": {
   "codemirror_mode": {
    "name": "ipython",
    "version": 3
   },
   "file_extension": ".py",
   "mimetype": "text/x-python",
   "name": "python",
   "nbconvert_exporter": "python",
   "pygments_lexer": "ipython3",
   "version": "3.13.1"
  },
  "widgets": {
   "state": {
    "14e63e949e824da59bc7b287bdb0310b": {
     "views": [
      {
       "cell_index": 13
      }
     ]
    },
    "2051b8aae2134a9fb42a7b3826be721e": {
     "views": [
      {
       "cell_index": 8
      }
     ]
    },
    "297144245c914bbebd06bd3edcc0884f": {
     "views": [
      {
       "cell_index": 9
      }
     ]
    },
    "38077f7dd8084d07bed41030ae3fc3fa": {
     "views": [
      {
       "cell_index": 13
      }
     ]
    },
    "3faad659b5b64c7797b485abe35bb93c": {
     "views": [
      {
       "cell_index": 11
      }
     ]
    },
    "75da609c53364f73baf3b8c3dc1950ce": {
     "views": [
      {
       "cell_index": 2
      }
     ]
    },
    "7e6d6a4352ed483fba9a4f7fae95a875": {
     "views": [
      {
       "cell_index": 10
      }
     ]
    },
    "8373b77ec699445fad01819e4ec48ce0": {
     "views": [
      {
       "cell_index": 6
      }
     ]
    },
    "9365792c6de4442abdfd27d4a8f4b8f7": {
     "views": [
      {
       "cell_index": 16
      }
     ]
    },
    "a93e4946d56a43de9f4ccd2e20634784": {
     "views": [
      {
       "cell_index": 13
      }
     ]
    }
   },
   "version": "1.2.0"
  }
 },
 "nbformat": 4,
 "nbformat_minor": 4
}
